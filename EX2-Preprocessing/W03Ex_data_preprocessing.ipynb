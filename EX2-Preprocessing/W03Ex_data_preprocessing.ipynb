{
  "cells": [
    {
      "cell_type": "markdown",
      "metadata": {
        "id": "acdOpzV0lYwO"
      },
      "source": [
        "# Data Preprocessing Assessment\n",
        "\n",
        "### DUE: Tuesday, 11 October 2022, 23:59\n",
        "\n",
        "This Jupyter notebook guides you through crucial steps in data preprocessing, which you will need for your IVDA projects. This includes, inter alia, handling missing values, grouping, mapping, and normalizing data.\n",
        "\n",
        "Here's the link to the questionnaire, which includes documentation for every question in your dataset: https://data.mendeley.com/datasets/88y3nffs82/5/files/c5f122b0-0380-42e7-9930-3d85ee083a06.\n",
        "\n",
        "## Grading Schema: \n",
        "\n",
        "You will be graded by the outcome of your code, not the code (quality) itself. Additionally, your written answers will be graded. Your assigned tasks and questions are highlighted in **bold** for you.\n",
        "\n",
        "*   **For plots:** Remember to add titles, legends, axes descriptions, etc. It is recommended you use the *plotly* library.\n",
        "*   Please answer as concisely as possible while using full sentences\n",
        "*  You can get up to 10 points for this exercise. To be transparent we added the weight of each exercise in percentage. Distribute your effort accordingly. \n",
        "* Solutions will be provided after the deadline.\n",
        "\n",
        "**Note**: don't use pandas-profiling for this week's assessment. This week's goal is to learn the abilities and limits of the tools demonstrated below, to enable you to be knowledgeable about the iterative process of wrangling. However, you can try to use it to confirm your findings, if you desire. We do not require this, nor will we mark it as part of your submission.\n",
        "\n",
        "\n",
        "We start by importing the neccessary packages. **Please do not import additional packages in this notebook.**"
      ]
    },
    {
      "cell_type": "code",
      "execution_count": 1,
      "metadata": {
        "id": "8j8O2xUbk1JN"
      },
      "outputs": [],
      "source": [
        "import numpy as np\n",
        "import pandas as pd\n",
        "import matplotlib.pyplot as plt\n",
        "from sklearn.impute import SimpleImputer\n",
        "from sklearn.preprocessing import MinMaxScaler\n",
        "import plotly.express as px\n",
        "import plotly.graph_objects as go"
      ]
    },
    {
      "cell_type": "markdown",
      "metadata": {
        "id": "RD5-yhCJtQw5"
      },
      "source": [
        "Import the data from the url:  https://raw.githubusercontent.com/akkuebler/ivda_dataprocessing/main/preppedStudentCovidData.csv'\n",
        "\n",
        "Note that you will want to have the responding student's number as your dataframe's index. "
      ]
    },
    {
      "cell_type": "code",
      "execution_count": 2,
      "metadata": {
        "id": "3e1tPIH6tQw5"
      },
      "outputs": [],
      "source": [
        "url = 'https://raw.githubusercontent.com/akkuebler/ivda_dataprocessing/main/preppedStudentCovidData.csv'\n",
        "df = pd.read_csv(url)\n",
        "df_org = df.copy()"
      ]
    },
    {
      "cell_type": "markdown",
      "metadata": {
        "id": "Z0xZ21iFtQw5"
      },
      "source": [
        "Display the first 5 rows of your dataset."
      ]
    },
    {
      "cell_type": "code",
      "execution_count": 3,
      "metadata": {
        "id": "oGHp8Zt4tQw6"
      },
      "outputs": [
        {
          "data": {
            "text/html": [
              "<div>\n",
              "<style scoped>\n",
              "    .dataframe tbody tr th:only-of-type {\n",
              "        vertical-align: middle;\n",
              "    }\n",
              "\n",
              "    .dataframe tbody tr th {\n",
              "        vertical-align: top;\n",
              "    }\n",
              "\n",
              "    .dataframe thead th {\n",
              "        text-align: right;\n",
              "    }\n",
              "</style>\n",
              "<table border=\"1\" class=\"dataframe\">\n",
              "  <thead>\n",
              "    <tr style=\"text-align: right;\">\n",
              "      <th></th>\n",
              "      <th>Unnamed: 0</th>\n",
              "      <th>Q1</th>\n",
              "      <th>Q3</th>\n",
              "      <th>Q4</th>\n",
              "      <th>Q5</th>\n",
              "      <th>Q6</th>\n",
              "      <th>Q7</th>\n",
              "      <th>Q8</th>\n",
              "      <th>Q9</th>\n",
              "      <th>Q10a</th>\n",
              "      <th>...</th>\n",
              "      <th>Q38h_2</th>\n",
              "      <th>Q38i_2</th>\n",
              "      <th>Q38j_2</th>\n",
              "      <th>Q38k_2</th>\n",
              "      <th>Q38l_2</th>\n",
              "      <th>Q38m_2</th>\n",
              "      <th>Q38n_2</th>\n",
              "      <th>Q38o_2</th>\n",
              "      <th>Q38p_2</th>\n",
              "      <th>SOURCE</th>\n",
              "    </tr>\n",
              "  </thead>\n",
              "  <tbody>\n",
              "    <tr>\n",
              "      <th>0</th>\n",
              "      <td>29349</td>\n",
              "      <td>Turkey</td>\n",
              "      <td>1.0</td>\n",
              "      <td>1.0</td>\n",
              "      <td>1.0</td>\n",
              "      <td>1.0</td>\n",
              "      <td>24.0</td>\n",
              "      <td>1.0</td>\n",
              "      <td>2.0</td>\n",
              "      <td>1.0</td>\n",
              "      <td>...</td>\n",
              "      <td>NaN</td>\n",
              "      <td>NaN</td>\n",
              "      <td>NaN</td>\n",
              "      <td>NaN</td>\n",
              "      <td>NaN</td>\n",
              "      <td>NaN</td>\n",
              "      <td>NaN</td>\n",
              "      <td>NaN</td>\n",
              "      <td>NaN</td>\n",
              "      <td>tr</td>\n",
              "    </tr>\n",
              "    <tr>\n",
              "      <th>1</th>\n",
              "      <td>23415</td>\n",
              "      <td>Portugal</td>\n",
              "      <td>1.0</td>\n",
              "      <td>1.0</td>\n",
              "      <td>1.0</td>\n",
              "      <td>3.0</td>\n",
              "      <td>NaN</td>\n",
              "      <td>1.0</td>\n",
              "      <td>2.0</td>\n",
              "      <td>4.0</td>\n",
              "      <td>...</td>\n",
              "      <td>1.0</td>\n",
              "      <td>3.0</td>\n",
              "      <td>5.0</td>\n",
              "      <td>4.0</td>\n",
              "      <td>3.0</td>\n",
              "      <td>5.0</td>\n",
              "      <td>1.0</td>\n",
              "      <td>2.0</td>\n",
              "      <td>2.0</td>\n",
              "      <td>pt</td>\n",
              "    </tr>\n",
              "    <tr>\n",
              "      <th>2</th>\n",
              "      <td>5568</td>\n",
              "      <td>Croatia</td>\n",
              "      <td>1.0</td>\n",
              "      <td>1.0</td>\n",
              "      <td>1.0</td>\n",
              "      <td>2.0</td>\n",
              "      <td>20.0</td>\n",
              "      <td>2.0</td>\n",
              "      <td>2.0</td>\n",
              "      <td>3.0</td>\n",
              "      <td>...</td>\n",
              "      <td>5.0</td>\n",
              "      <td>1.0</td>\n",
              "      <td>1.0</td>\n",
              "      <td>4.0</td>\n",
              "      <td>2.0</td>\n",
              "      <td>2.0</td>\n",
              "      <td>1.0</td>\n",
              "      <td>1.0</td>\n",
              "      <td>2.0</td>\n",
              "      <td>en</td>\n",
              "    </tr>\n",
              "    <tr>\n",
              "      <th>3</th>\n",
              "      <td>10176</td>\n",
              "      <td>Hungary</td>\n",
              "      <td>1.0</td>\n",
              "      <td>1.0</td>\n",
              "      <td>1.0</td>\n",
              "      <td>3.0</td>\n",
              "      <td>21.0</td>\n",
              "      <td>1.0</td>\n",
              "      <td>2.0</td>\n",
              "      <td>3.0</td>\n",
              "      <td>...</td>\n",
              "      <td>5.0</td>\n",
              "      <td>1.0</td>\n",
              "      <td>3.0</td>\n",
              "      <td>4.0</td>\n",
              "      <td>4.0</td>\n",
              "      <td>3.0</td>\n",
              "      <td>1.0</td>\n",
              "      <td>3.0</td>\n",
              "      <td>1.0</td>\n",
              "      <td>en</td>\n",
              "    </tr>\n",
              "    <tr>\n",
              "      <th>4</th>\n",
              "      <td>2226</td>\n",
              "      <td>Bangladesh</td>\n",
              "      <td>1.0</td>\n",
              "      <td>1.0</td>\n",
              "      <td>2.0</td>\n",
              "      <td>1.0</td>\n",
              "      <td>NaN</td>\n",
              "      <td>1.0</td>\n",
              "      <td>2.0</td>\n",
              "      <td>NaN</td>\n",
              "      <td>...</td>\n",
              "      <td>NaN</td>\n",
              "      <td>NaN</td>\n",
              "      <td>NaN</td>\n",
              "      <td>NaN</td>\n",
              "      <td>NaN</td>\n",
              "      <td>NaN</td>\n",
              "      <td>NaN</td>\n",
              "      <td>NaN</td>\n",
              "      <td>NaN</td>\n",
              "      <td>en</td>\n",
              "    </tr>\n",
              "  </tbody>\n",
              "</table>\n",
              "<p>5 rows × 162 columns</p>\n",
              "</div>"
            ],
            "text/plain": [
              "   Unnamed: 0          Q1   Q3   Q4   Q5   Q6    Q7   Q8   Q9  Q10a  ...  \\\n",
              "0       29349      Turkey  1.0  1.0  1.0  1.0  24.0  1.0  2.0   1.0  ...   \n",
              "1       23415    Portugal  1.0  1.0  1.0  3.0   NaN  1.0  2.0   4.0  ...   \n",
              "2        5568     Croatia  1.0  1.0  1.0  2.0  20.0  2.0  2.0   3.0  ...   \n",
              "3       10176     Hungary  1.0  1.0  1.0  3.0  21.0  1.0  2.0   3.0  ...   \n",
              "4        2226  Bangladesh  1.0  1.0  2.0  1.0   NaN  1.0  2.0   NaN  ...   \n",
              "\n",
              "   Q38h_2  Q38i_2  Q38j_2  Q38k_2  Q38l_2  Q38m_2  Q38n_2  Q38o_2  Q38p_2  \\\n",
              "0     NaN     NaN     NaN     NaN     NaN     NaN     NaN     NaN     NaN   \n",
              "1     1.0     3.0     5.0     4.0     3.0     5.0     1.0     2.0     2.0   \n",
              "2     5.0     1.0     1.0     4.0     2.0     2.0     1.0     1.0     2.0   \n",
              "3     5.0     1.0     3.0     4.0     4.0     3.0     1.0     3.0     1.0   \n",
              "4     NaN     NaN     NaN     NaN     NaN     NaN     NaN     NaN     NaN   \n",
              "\n",
              "   SOURCE  \n",
              "0      tr  \n",
              "1      pt  \n",
              "2      en  \n",
              "3      en  \n",
              "4      en  \n",
              "\n",
              "[5 rows x 162 columns]"
            ]
          },
          "execution_count": 3,
          "metadata": {},
          "output_type": "execute_result"
        }
      ],
      "source": [
        "# display first rows\n",
        "df.head()"
      ]
    },
    {
      "cell_type": "markdown",
      "metadata": {
        "id": "Aft-VH96tQw6"
      },
      "source": [
        "# Task 1 - Handling duplicates & mapping Data (27.5 %)\n",
        "## Task 1.1 \n",
        "**Make yourself familiar with the data's shape and size**"
      ]
    },
    {
      "cell_type": "code",
      "execution_count": 4,
      "metadata": {
        "id": "uYVxMwD6tQw7"
      },
      "outputs": [
        {
          "name": "stdout",
          "output_type": "stream",
          "text": [
            "The dataset contains 10000 data records and 162 features.\n"
          ]
        }
      ],
      "source": [
        "print(\"The dataset contains {} data records and {} features.\".format(df.shape[0], df.shape[1]))"
      ]
    },
    {
      "cell_type": "markdown",
      "metadata": {
        "id": "a7eRT6vwtQw7"
      },
      "source": [
        "Read through all the tasks in this notebook, and create a list of all the questions in the questionaire which are relevant for your assigned data analysis tasks (link to the questionnaire is on the exercise slides). Note that the answer to each question is stored in a column. In this assessment's context, we refer to those columns as *attributes* or *features*.\n",
        "\n",
        "## Task 1.2\n",
        "**Give basic summary statistics for the questions you've identified as relevant, and state which of these questions has the most missing data. 2.5 %**"
      ]
    },
    {
      "cell_type": "code",
      "execution_count": 5,
      "metadata": {},
      "outputs": [
        {
          "data": {
            "text/html": [
              "<div>\n",
              "<style scoped>\n",
              "    .dataframe tbody tr th:only-of-type {\n",
              "        vertical-align: middle;\n",
              "    }\n",
              "\n",
              "    .dataframe tbody tr th {\n",
              "        vertical-align: top;\n",
              "    }\n",
              "\n",
              "    .dataframe thead th {\n",
              "        text-align: right;\n",
              "    }\n",
              "</style>\n",
              "<table border=\"1\" class=\"dataframe\">\n",
              "  <thead>\n",
              "    <tr style=\"text-align: right;\">\n",
              "      <th></th>\n",
              "      <th>Unnamed: 0</th>\n",
              "      <th>Q3</th>\n",
              "      <th>Q4</th>\n",
              "      <th>Q5</th>\n",
              "      <th>Q6</th>\n",
              "      <th>Q7</th>\n",
              "      <th>Q8</th>\n",
              "      <th>Q9</th>\n",
              "      <th>Q10a</th>\n",
              "      <th>Q10b</th>\n",
              "      <th>...</th>\n",
              "      <th>Q38g_2</th>\n",
              "      <th>Q38h_2</th>\n",
              "      <th>Q38i_2</th>\n",
              "      <th>Q38j_2</th>\n",
              "      <th>Q38k_2</th>\n",
              "      <th>Q38l_2</th>\n",
              "      <th>Q38m_2</th>\n",
              "      <th>Q38n_2</th>\n",
              "      <th>Q38o_2</th>\n",
              "      <th>Q38p_2</th>\n",
              "    </tr>\n",
              "  </thead>\n",
              "  <tbody>\n",
              "    <tr>\n",
              "      <th>count</th>\n",
              "      <td>10000.00000</td>\n",
              "      <td>9517.000000</td>\n",
              "      <td>9493.000000</td>\n",
              "      <td>9430.000000</td>\n",
              "      <td>9305.000000</td>\n",
              "      <td>8024.000000</td>\n",
              "      <td>9565.000000</td>\n",
              "      <td>9004.000000</td>\n",
              "      <td>6504.000000</td>\n",
              "      <td>5283.000000</td>\n",
              "      <td>...</td>\n",
              "      <td>6160.000000</td>\n",
              "      <td>6162.000000</td>\n",
              "      <td>5967.000000</td>\n",
              "      <td>6103.000000</td>\n",
              "      <td>6150.000000</td>\n",
              "      <td>6160.000000</td>\n",
              "      <td>6135.000000</td>\n",
              "      <td>6136.000000</td>\n",
              "      <td>6140.000000</td>\n",
              "      <td>6148.000000</td>\n",
              "    </tr>\n",
              "    <tr>\n",
              "      <th>mean</th>\n",
              "      <td>16030.24370</td>\n",
              "      <td>1.066723</td>\n",
              "      <td>1.115559</td>\n",
              "      <td>1.242842</td>\n",
              "      <td>2.637077</td>\n",
              "      <td>23.546735</td>\n",
              "      <td>1.674647</td>\n",
              "      <td>1.947912</td>\n",
              "      <td>3.324416</td>\n",
              "      <td>3.297369</td>\n",
              "      <td>...</td>\n",
              "      <td>2.666558</td>\n",
              "      <td>3.481337</td>\n",
              "      <td>2.459695</td>\n",
              "      <td>3.486482</td>\n",
              "      <td>4.141301</td>\n",
              "      <td>4.316883</td>\n",
              "      <td>3.172779</td>\n",
              "      <td>2.228488</td>\n",
              "      <td>2.819707</td>\n",
              "      <td>1.986337</td>\n",
              "    </tr>\n",
              "    <tr>\n",
              "      <th>std</th>\n",
              "      <td>9121.70385</td>\n",
              "      <td>0.249554</td>\n",
              "      <td>0.319712</td>\n",
              "      <td>0.523890</td>\n",
              "      <td>0.924109</td>\n",
              "      <td>5.677028</td>\n",
              "      <td>0.516307</td>\n",
              "      <td>0.362120</td>\n",
              "      <td>1.104941</td>\n",
              "      <td>1.146570</td>\n",
              "      <td>...</td>\n",
              "      <td>1.314062</td>\n",
              "      <td>1.593097</td>\n",
              "      <td>1.317388</td>\n",
              "      <td>1.640035</td>\n",
              "      <td>1.282646</td>\n",
              "      <td>1.116777</td>\n",
              "      <td>1.174868</td>\n",
              "      <td>1.369814</td>\n",
              "      <td>1.290348</td>\n",
              "      <td>1.009379</td>\n",
              "    </tr>\n",
              "    <tr>\n",
              "      <th>min</th>\n",
              "      <td>0.00000</td>\n",
              "      <td>1.000000</td>\n",
              "      <td>1.000000</td>\n",
              "      <td>1.000000</td>\n",
              "      <td>1.000000</td>\n",
              "      <td>18.000000</td>\n",
              "      <td>1.000000</td>\n",
              "      <td>1.000000</td>\n",
              "      <td>1.000000</td>\n",
              "      <td>1.000000</td>\n",
              "      <td>...</td>\n",
              "      <td>1.000000</td>\n",
              "      <td>1.000000</td>\n",
              "      <td>1.000000</td>\n",
              "      <td>1.000000</td>\n",
              "      <td>1.000000</td>\n",
              "      <td>1.000000</td>\n",
              "      <td>1.000000</td>\n",
              "      <td>1.000000</td>\n",
              "      <td>1.000000</td>\n",
              "      <td>1.000000</td>\n",
              "    </tr>\n",
              "    <tr>\n",
              "      <th>25%</th>\n",
              "      <td>8494.75000</td>\n",
              "      <td>1.000000</td>\n",
              "      <td>1.000000</td>\n",
              "      <td>1.000000</td>\n",
              "      <td>2.000000</td>\n",
              "      <td>20.000000</td>\n",
              "      <td>1.000000</td>\n",
              "      <td>2.000000</td>\n",
              "      <td>3.000000</td>\n",
              "      <td>3.000000</td>\n",
              "      <td>...</td>\n",
              "      <td>1.000000</td>\n",
              "      <td>2.000000</td>\n",
              "      <td>1.000000</td>\n",
              "      <td>2.000000</td>\n",
              "      <td>4.000000</td>\n",
              "      <td>4.000000</td>\n",
              "      <td>2.000000</td>\n",
              "      <td>1.000000</td>\n",
              "      <td>2.000000</td>\n",
              "      <td>1.000000</td>\n",
              "    </tr>\n",
              "    <tr>\n",
              "      <th>50%</th>\n",
              "      <td>16018.00000</td>\n",
              "      <td>1.000000</td>\n",
              "      <td>1.000000</td>\n",
              "      <td>1.000000</td>\n",
              "      <td>3.000000</td>\n",
              "      <td>22.000000</td>\n",
              "      <td>2.000000</td>\n",
              "      <td>2.000000</td>\n",
              "      <td>4.000000</td>\n",
              "      <td>3.000000</td>\n",
              "      <td>...</td>\n",
              "      <td>3.000000</td>\n",
              "      <td>4.000000</td>\n",
              "      <td>2.000000</td>\n",
              "      <td>4.000000</td>\n",
              "      <td>5.000000</td>\n",
              "      <td>5.000000</td>\n",
              "      <td>3.000000</td>\n",
              "      <td>2.000000</td>\n",
              "      <td>3.000000</td>\n",
              "      <td>2.000000</td>\n",
              "    </tr>\n",
              "    <tr>\n",
              "      <th>75%</th>\n",
              "      <td>23890.25000</td>\n",
              "      <td>1.000000</td>\n",
              "      <td>1.000000</td>\n",
              "      <td>1.000000</td>\n",
              "      <td>3.000000</td>\n",
              "      <td>24.000000</td>\n",
              "      <td>2.000000</td>\n",
              "      <td>2.000000</td>\n",
              "      <td>4.000000</td>\n",
              "      <td>4.000000</td>\n",
              "      <td>...</td>\n",
              "      <td>4.000000</td>\n",
              "      <td>5.000000</td>\n",
              "      <td>3.000000</td>\n",
              "      <td>5.000000</td>\n",
              "      <td>5.000000</td>\n",
              "      <td>5.000000</td>\n",
              "      <td>4.000000</td>\n",
              "      <td>3.000000</td>\n",
              "      <td>4.000000</td>\n",
              "      <td>2.000000</td>\n",
              "    </tr>\n",
              "    <tr>\n",
              "      <th>max</th>\n",
              "      <td>95955.00000</td>\n",
              "      <td>2.000000</td>\n",
              "      <td>2.000000</td>\n",
              "      <td>3.000000</td>\n",
              "      <td>4.000000</td>\n",
              "      <td>70.000000</td>\n",
              "      <td>4.000000</td>\n",
              "      <td>3.000000</td>\n",
              "      <td>5.000000</td>\n",
              "      <td>5.000000</td>\n",
              "      <td>...</td>\n",
              "      <td>5.000000</td>\n",
              "      <td>5.000000</td>\n",
              "      <td>5.000000</td>\n",
              "      <td>5.000000</td>\n",
              "      <td>5.000000</td>\n",
              "      <td>5.000000</td>\n",
              "      <td>5.000000</td>\n",
              "      <td>5.000000</td>\n",
              "      <td>5.000000</td>\n",
              "      <td>5.000000</td>\n",
              "    </tr>\n",
              "  </tbody>\n",
              "</table>\n",
              "<p>8 rows × 160 columns</p>\n",
              "</div>"
            ],
            "text/plain": [
              "        Unnamed: 0           Q3           Q4           Q5           Q6  \\\n",
              "count  10000.00000  9517.000000  9493.000000  9430.000000  9305.000000   \n",
              "mean   16030.24370     1.066723     1.115559     1.242842     2.637077   \n",
              "std     9121.70385     0.249554     0.319712     0.523890     0.924109   \n",
              "min        0.00000     1.000000     1.000000     1.000000     1.000000   \n",
              "25%     8494.75000     1.000000     1.000000     1.000000     2.000000   \n",
              "50%    16018.00000     1.000000     1.000000     1.000000     3.000000   \n",
              "75%    23890.25000     1.000000     1.000000     1.000000     3.000000   \n",
              "max    95955.00000     2.000000     2.000000     3.000000     4.000000   \n",
              "\n",
              "                Q7           Q8           Q9         Q10a         Q10b  ...  \\\n",
              "count  8024.000000  9565.000000  9004.000000  6504.000000  5283.000000  ...   \n",
              "mean     23.546735     1.674647     1.947912     3.324416     3.297369  ...   \n",
              "std       5.677028     0.516307     0.362120     1.104941     1.146570  ...   \n",
              "min      18.000000     1.000000     1.000000     1.000000     1.000000  ...   \n",
              "25%      20.000000     1.000000     2.000000     3.000000     3.000000  ...   \n",
              "50%      22.000000     2.000000     2.000000     4.000000     3.000000  ...   \n",
              "75%      24.000000     2.000000     2.000000     4.000000     4.000000  ...   \n",
              "max      70.000000     4.000000     3.000000     5.000000     5.000000  ...   \n",
              "\n",
              "            Q38g_2       Q38h_2       Q38i_2       Q38j_2       Q38k_2  \\\n",
              "count  6160.000000  6162.000000  5967.000000  6103.000000  6150.000000   \n",
              "mean      2.666558     3.481337     2.459695     3.486482     4.141301   \n",
              "std       1.314062     1.593097     1.317388     1.640035     1.282646   \n",
              "min       1.000000     1.000000     1.000000     1.000000     1.000000   \n",
              "25%       1.000000     2.000000     1.000000     2.000000     4.000000   \n",
              "50%       3.000000     4.000000     2.000000     4.000000     5.000000   \n",
              "75%       4.000000     5.000000     3.000000     5.000000     5.000000   \n",
              "max       5.000000     5.000000     5.000000     5.000000     5.000000   \n",
              "\n",
              "            Q38l_2       Q38m_2       Q38n_2       Q38o_2       Q38p_2  \n",
              "count  6160.000000  6135.000000  6136.000000  6140.000000  6148.000000  \n",
              "mean      4.316883     3.172779     2.228488     2.819707     1.986337  \n",
              "std       1.116777     1.174868     1.369814     1.290348     1.009379  \n",
              "min       1.000000     1.000000     1.000000     1.000000     1.000000  \n",
              "25%       4.000000     2.000000     1.000000     2.000000     1.000000  \n",
              "50%       5.000000     3.000000     2.000000     3.000000     2.000000  \n",
              "75%       5.000000     4.000000     3.000000     4.000000     2.000000  \n",
              "max       5.000000     5.000000     5.000000     5.000000     5.000000  \n",
              "\n",
              "[8 rows x 160 columns]"
            ]
          },
          "execution_count": 5,
          "metadata": {},
          "output_type": "execute_result"
        }
      ],
      "source": [
        "# summary statistics\n",
        "df.describe()"
      ]
    },
    {
      "cell_type": "code",
      "execution_count": 6,
      "metadata": {
        "id": "AzW8IBoMxPkK"
      },
      "outputs": [
        {
          "name": "stdout",
          "output_type": "stream",
          "text": [
            "The question with the most missing data & its number of missing data: Q34 - 8234\n"
          ]
        }
      ],
      "source": [
        "# Which question has the most missing data?\n",
        "col_nan_sum = dict(df.isnull().sum())\n",
        "max_nan_col = list(col_nan_sum.keys())[0]\n",
        "max_missing = col_nan_sum[max_nan_col]\n",
        "for k in col_nan_sum.keys():\n",
        "    if col_nan_sum[k] > max_missing:\n",
        "        max_nan_col = k\n",
        "        max_missing = col_nan_sum[k]\n",
        "\n",
        "print('The question with the most missing data & its number of missing data: {} - {}'.format(max_nan_col, max_missing))"
      ]
    },
    {
      "cell_type": "markdown",
      "metadata": {
        "id": "hNMoxRrVtQw8"
      },
      "source": [
        "## Task 1.3\n",
        "When working with data, we should be concerned not just by missing data, but also by duplicated rows. **Now, check your dataset from above for duplicates, and delete all but the first entry.**\n",
        "\n",
        "*Hint: Be aware that the dataset contains duplicate indices. The indices function as a unique student number for every student.*"
      ]
    },
    {
      "cell_type": "code",
      "execution_count": 7,
      "metadata": {
        "id": "ZvH5anCLtQw8"
      },
      "outputs": [
        {
          "name": "stdout",
          "output_type": "stream",
          "text": [
            "There are 1562 duplicated rows \n"
          ]
        }
      ],
      "source": [
        "# Check for duplicates\n",
        "print('There are {} duplicated rows '.format(df.duplicated(subset = ['Unnamed: 0'], keep='first').sum()))\n",
        "df = df.drop_duplicates(subset = ['Unnamed: 0'], keep = 'first')"
      ]
    },
    {
      "cell_type": "markdown",
      "metadata": {
        "id": "Av2vzQFntQw9"
      },
      "source": [
        "**Why can you not simply use `df.drop_duplicates(keep ='first')`? What would happen in this case? (Max. 50 words).** **5 %**"
      ]
    },
    {
      "cell_type": "markdown",
      "metadata": {},
      "source": [
        "Since each row in the data frame is distinguished by the unique student number, it is important to consider 'Unnamed: 0' for identifying duplicates. If we use df.drop_duplicates(keep = 'first'), the function will use all columns by default. Consequently, it would result in deleting some of the unique student number."
      ]
    },
    {
      "cell_type": "code",
      "execution_count": 8,
      "metadata": {
        "id": "OBALYRaJtQw9"
      },
      "outputs": [
        {
          "name": "stdout",
          "output_type": "stream",
          "text": [
            "After handling duplicates, the dataset now contains 8438 data records and 162 features.\n"
          ]
        }
      ],
      "source": [
        "print(\"After handling duplicates, the dataset now contains {} data records and {} features.\".format(df.shape[0], df.shape[1]))"
      ]
    },
    {
      "cell_type": "markdown",
      "metadata": {
        "id": "q5GuWtlDtQw9"
      },
      "source": [
        "## Task 1.4\n",
        "**Create a pie chart visualization describing the ratio of responses from each country in your dataset. For now, do not perform any additional clean-up of your data. 5 %**"
      ]
    },
    {
      "cell_type": "code",
      "execution_count": 9,
      "metadata": {
        "id": "2mdivCAptQw-"
      },
      "outputs": [
        {
          "data": {
            "image/png": "[encoded data removed]",
            "text/plain": [
              "<Figure size 432x288 with 1 Axes>"
            ]
          },
          "metadata": {},
          "output_type": "display_data"
        }
      ],
      "source": [
        "c = list(df[\"Q1\"])\n",
        "def counting_as_dict(c):\n",
        "    ###################################################\n",
        "    ##### YOUR CODE STARTS HERE #######################\n",
        "    ###################################################\n",
        "    dic = {}\n",
        "    for e in c:\n",
        "        if e in dic:\n",
        "            dic[e] += 1\n",
        "        else:\n",
        "            dic[e] = 1\n",
        "    return dic\n",
        "    ###################################################\n",
        "    ##### YOUR CODE ENDS HERE #########################\n",
        "    ###################################################    \n",
        "\n",
        "def plot_pie(dictionary):\n",
        "    ###################################################\n",
        "    ##### YOUR CODE STARTS HERE #######################\n",
        "    ###################################################\n",
        "    dic_keys = []\n",
        "    count = []\n",
        "    for k,v in dictionary.items():\n",
        "        dic_keys.append(k)\n",
        "        count.append(v)\n",
        "\n",
        "    # Plot\n",
        "    plt.pie(count, labels = dic_keys)\n",
        "    plt.axis('equal')\n",
        "    plt.show()\n",
        "    ###################################################\n",
        "    ##### YOUR CODE ENDS HERE #########################\n",
        "    ###################################################\n",
        "\n",
        "d = counting_as_dict(c)\n",
        "plot_pie(d)"
      ]
    },
    {
      "cell_type": "markdown",
      "metadata": {
        "id": "mq-CoiSTtQw-"
      },
      "source": [
        "As you can see, the plot is very cluttered. To reduce this clutter, we could instead create and plot a set of logical groupings-- in the case of our data here, these groupings could be continents. **Try to map the countries to the respective continents using the provided `continent.csv` file (https://raw.githubusercontent.com/akkuebler/ivda_dataprocessing/main/continents.csv), and then plot it again. 5 %**"
      ]
    },
    {
      "cell_type": "code",
      "execution_count": 10,
      "metadata": {
        "id": "2k7UB7bvtQw-"
      },
      "outputs": [],
      "source": [
        "url2 = 'https://raw.githubusercontent.com/akkuebler/ivda_dataprocessing/main/continents.csv'\n",
        "continents = pd.read_csv(url2)"
      ]
    },
    {
      "cell_type": "markdown",
      "metadata": {
        "id": "odVBi9NxtQw-"
      },
      "source": [
        "*Hint: Turn the `continents` dataframe into a dictionary you can use for mapping.*"
      ]
    },
    {
      "cell_type": "code",
      "execution_count": 11,
      "metadata": {
        "id": "jRH80FxEtQw_"
      },
      "outputs": [
        {
          "data": {
            "image/png": "[encoded data removed]",
            "text/plain": [
              "<Figure size 432x288 with 1 Axes>"
            ]
          },
          "metadata": {},
          "output_type": "display_data"
        }
      ],
      "source": [
        "# Mapping\n",
        "cont_dic = continents.to_dict(orient = 'records')\n",
        "cont_dic_map = {}\n",
        "for e in cont_dic:\n",
        "    cont_dic_map[e['country']] = e['continent']\n",
        "\n",
        "def country_by_continent(dfcol):\n",
        "    isnan = list(dfcol.isna())\n",
        "    q1 = list(dfcol)\n",
        "    cont_lst = []\n",
        "    for i in range(len(q1)):\n",
        "        if isnan[i] == True:\n",
        "            cont_lst.append('NaN')\n",
        "        elif q1[i] == 'United States of America':\n",
        "            cont_lst.append('North America')\n",
        "        elif q1[i] == 'Palestinian State' or q1[i] == 'The Philippines':\n",
        "            cont_lst.append('Asia')\n",
        "        elif q1[i] == 'Democratic Republic of Congo':\n",
        "            cont_lst.append('Africa')\n",
        "        elif q1[i] == 'The Netherlands':\n",
        "            cont_lst.append('Europe')\n",
        "        else:\n",
        "            cont_lst.append(cont_dic_map[q1[i]])\n",
        "    return cont_lst\n",
        "\n",
        "# Visualization\n",
        "d = counting_as_dict(country_by_continent(df.Q1))\n",
        "plot_pie(d)"
      ]
    },
    {
      "cell_type": "markdown",
      "metadata": {
        "id": "4Enz1C51tQw_"
      },
      "source": [
        "**Inspect the pie chart and the dataframe: Why do you see some 4-5% missing values? Where does these rows come from? (Max. 50 words).** **5 %**"
      ]
    },
    {
      "cell_type": "code",
      "execution_count": 12,
      "metadata": {},
      "outputs": [
        {
          "name": "stdout",
          "output_type": "stream",
          "text": [
            "count       8228\n",
            "unique        77\n",
            "top       Poland\n",
            "freq         790\n",
            "Name: Q1, dtype: object\n",
            "The number of missing values in Q1: 210\n"
          ]
        }
      ],
      "source": [
        "print(df.Q1.describe())\n",
        "print('The number of missing values in Q1:', df.Q1.isnull().sum())"
      ]
    },
    {
      "cell_type": "markdown",
      "metadata": {
        "id": "drgVeSV8_LRm"
      },
      "source": [
        "\n",
        "```\n",
        "YOUR RESPONSE HERE\n",
        "```\n",
        "The missing values come from people who did not respond to Q1. Hence, it resulted in a few percentages of NaN in the pie chart. As you can see above, the total number of missing values is 210.\n",
        "\n"
      ]
    },
    {
      "cell_type": "markdown",
      "metadata": {
        "id": "Vlnbl2XttQw_"
      },
      "source": [
        "**Apply your findings from the question above to further reduce the amount of missing data. Plot the pie chart again. 5 %**"
      ]
    },
    {
      "cell_type": "code",
      "execution_count": 13,
      "metadata": {
        "id": "IsT7fTFKtQw_"
      },
      "outputs": [
        {
          "data": {
            "image/png": "[encoded data removed]",
            "text/plain": [
              "<Figure size 432x288 with 1 Axes>"
            ]
          },
          "metadata": {},
          "output_type": "display_data"
        }
      ],
      "source": [
        "#Further reduce missing data\n",
        "df = df[~df.Q1.isnull()]\n",
        "\n",
        "# Map and visualize again\n",
        "d = counting_as_dict(country_by_continent(df.Q1))\n",
        "plot_pie(d)"
      ]
    },
    {
      "cell_type": "markdown",
      "metadata": {
        "id": "WN1KzaSStQw_"
      },
      "source": [
        "Please note: from the perspective of visuzalization theory, pie charts are not ideal. This is because humans do not do well when asked to estimate quantities within (and across) pie charts with spatial disarray. As Edward Tufte once wrote: \n",
        "\n",
        "    \"... the only worse design than a pie chart is several of them.” \n",
        "    \n",
        "    Tufte. (2015). The visual display of quantitative information (Second edition, ninth printing). Graphics Press.\n",
        "\n",
        "In our context, we use pie charts only for the purpose of visualizing the progress we make in our grouping of the data. Since we do not set out to express some subtle findings to a reader, our use case is sufficiently simple for a pie chart. Do not use pie charts in your upcoming group projects."
      ]
    },
    {
      "cell_type": "markdown",
      "metadata": {
        "id": "kJc9g2h0tQxA"
      },
      "source": [
        "# Task 2 - Handling and treating missing values (35 %)\n",
        "## Task 2.1\n",
        "**Visualize the age of the students in your dataset with an appropriate boxplot and histogram. With regards to the visualizations' treatment of missing data, what issues do you encounter here? 2 %**"
      ]
    },
    {
      "cell_type": "code",
      "execution_count": 14,
      "metadata": {
        "id": "kW0fSwfc38U8"
      },
      "outputs": [
        {
          "name": "stdout",
          "output_type": "stream",
          "text": [
            "In the boxplot, as it visualises the frequency of each age,it is difficult to recognise whether it contains the frequency of missing values. However, as the histogram reveals age and frequency, it is clear that nan is included in the dataset. Also, the missing values appear the most frequently among all categories.\n"
          ]
        },
        {
          "data": {
            "image/png": "[encoded data removed]",
            "text/plain": [
              "<Figure size 1080x360 with 2 Axes>"
            ]
          },
          "metadata": {
            "needs_background": "light"
          },
          "output_type": "display_data"
        }
      ],
      "source": [
        "# Visualize\n",
        "counts = df['Q7'].value_counts(dropna = False)\n",
        "f, (ax1, ax2) = plt.subplots(1, 2, figsize = (15,5))\n",
        "ax1.boxplot(counts)\n",
        "ax1.set_ylabel('Frequency')\n",
        "ax1.set_title('Boxplot with missing values')\n",
        "counts.plot(kind = 'bar', title = 'Histogram with missing values', xlabel='Age', ylabel='Frequency', rot = 45, fontsize=8)\n",
        "\n",
        "# What problems do you notice in your visualizations?\n",
        "print('In the boxplot, as it visualises the frequency of each age,it is difficult to recognise whether it contains the frequency of missing values. However, as the histogram reveals age and frequency, it is clear that nan is included in the dataset. Also, the missing values appear the most frequently among all categories.')"
      ]
    },
    {
      "cell_type": "markdown",
      "metadata": {
        "id": "qm5PL5Wf383B"
      },
      "source": [
        "**Now, filter out missing data using `np.isnan()`, and run your visualization code again. 3 %**\n",
        "\n",
        "*Hint: If you are working on your local machine, you might want use `from plotly.offline import plot` together with `plot(fig)`. This creates a locally-stored HTML that is then opened within your web browser.*"
      ]
    },
    {
      "cell_type": "code",
      "execution_count": 15,
      "metadata": {
        "id": "qBq9ZF9xtQxA"
      },
      "outputs": [
        {
          "data": {
            "text/plain": [
              "<AxesSubplot:title={'center':'Histogram wihtout missing values'}, xlabel='Age', ylabel='Frequency'>"
            ]
          },
          "execution_count": 15,
          "metadata": {},
          "output_type": "execute_result"
        },
        {
          "data": {
            "image/png": "[encoded data removed]",
            "text/plain": [
              "<Figure size 1080x360 with 2 Axes>"
            ]
          },
          "metadata": {
            "needs_background": "light"
          },
          "output_type": "display_data"
        }
      ],
      "source": [
        "# Filter data using np.isnan\n",
        "df = df[~np.isnan(df['Q7'])]\n",
        "count_new = df.Q7.value_counts()\n",
        "# Visualize\n",
        "f, (ax1, ax2) = plt.subplots(1, 2, figsize = (15,5))\n",
        "ax1.boxplot(count_new)\n",
        "ax1.set_ylabel('Frequency')\n",
        "ax1.set_title('Boxplot without missing values')\n",
        "count_new.plot(kind = 'bar', title = 'Histogram wihtout missing values', xlabel='Age', ylabel='Frequency', rot = 45, fontsize=8)"
      ]
    },
    {
      "cell_type": "markdown",
      "metadata": {
        "id": "voVJf12ztQxA"
      },
      "source": [
        "## Task 2.2\n",
        "Inspect your dataset again. We still have to deal with some missing data!\n",
        " \n",
        "Now you must come up with a strategy to reduce your (reduced) dataset's missing values, so that you can continue your work on a nice, clean dataset.\n",
        "\n",
        "*Hint: In general, there are 3 different ways to handle missing data:* \n",
        "1. *Ignoring on purpose (as we did above)*\n",
        "2. *Deleting entire entries (rows) or features (columns) with missing data, or deleting entire features when missing data reaches a certain threshold (i.e. ignoring them in your analysis)*\n",
        "3. *Imputing missing data with the feature's mean or median, or treat a missing value as seperate category (when the feature is categorical).* \n",
        "\n",
        "*But remember: All of the described ways above are data type- and context-dependent!*"
      ]
    },
    {
      "cell_type": "markdown",
      "metadata": {
        "id": "uuNv2o2HtQxA"
      },
      "source": [
        "## Task 2.2.1\n",
        "**Drop rows where all data is missing. Note that, since our index is the unique student number, we should NOT reset the index here. 5 %**"
      ]
    },
    {
      "cell_type": "code",
      "execution_count": 16,
      "metadata": {
        "id": "LOJCp-IHtQxA"
      },
      "outputs": [
        {
          "name": "stdout",
          "output_type": "stream",
          "text": [
            "The dataset before dropping the rows contains 6711 data records and 162 features.\n",
            "The dataset now contains 6711 data records and 162 features.\n"
          ]
        }
      ],
      "source": [
        "print(\"The dataset before dropping the rows contains {} data records and {} features.\".format(df.shape[0], df.shape[1]))\n",
        "\n",
        "# drop rows with missing data\n",
        "#df.isnull().all(axis = 1).sum() # Result: 0\n",
        "df = df.dropna(subset = ['Unnamed: 0'], how = 'all')\n",
        "print(\"The dataset now contains {} data records and {} features.\".format(df.shape[0], df.shape[1]))"
      ]
    },
    {
      "cell_type": "markdown",
      "metadata": {
        "id": "niZ-U2Z_tQxB"
      },
      "source": [
        "## Task 2.2.2\n",
        "This task is about Q7 (Age).\n",
        "\n",
        "**Impute the missing values with the feature mean, and visualize again the age of the students in your dataset with an appropriate boxplot and histogram. 5 %**"
      ]
    },
    {
      "cell_type": "code",
      "execution_count": 17,
      "metadata": {
        "id": "we1Z6c-PtQxB",
        "outputId": "e1b031b6-299c-460c-f5d1-ea6aec36e57d"
      },
      "outputs": [
        {
          "name": "stdout",
          "output_type": "stream",
          "text": [
            "Original Data : \n",
            " count    8024.000000\n",
            "mean       23.546735\n",
            "std         5.677028\n",
            "min        18.000000\n",
            "25%        20.000000\n",
            "50%        22.000000\n",
            "75%        24.000000\n",
            "max        70.000000\n",
            "Name: Q7, dtype: float64 \n",
            "\n",
            "Imputed Data : \n",
            " count    10000.000000\n",
            "mean        23.546735\n",
            "std          5.085237\n",
            "min         18.000000\n",
            "25%         21.000000\n",
            "50%         23.000000\n",
            "75%         24.000000\n",
            "max         70.000000\n",
            "Name: Q7, dtype: float64\n"
          ]
        },
        {
          "data": {
            "text/plain": [
              "<AxesSubplot:title={'center':'Histogram with imputing'}, ylabel='Frequency'>"
            ]
          },
          "execution_count": 17,
          "metadata": {},
          "output_type": "execute_result"
        },
        {
          "data": {
            "image/png": "[encoded data removed]",
            "text/plain": [
              "<Figure size 1080x360 with 2 Axes>"
            ]
          },
          "metadata": {
            "needs_background": "light"
          },
          "output_type": "display_data"
        }
      ],
      "source": [
        "##########################################################################################################################\n",
        "# As the result of df.Q7.isna().sum() = 0, the original dataset of size (10000, 162) was used in this task for the sake of \n",
        "# showing the difference between the one with the imputed mean and the one ignoring missing values.\n",
        "##########################################################################################################################\n",
        "df_impute = df_org.copy()\n",
        "df_no_impute = df_org.copy()\n",
        "print(\"Original Data : \\n\", df_impute.Q7.describe(), \"\\n\")\n",
        "\n",
        "# impute missing values\n",
        "imp_mean = SimpleImputer(missing_values=np.nan, strategy='mean')\n",
        "df_impute['Q7'] = imp_mean.fit_transform(df_impute['Q7'].values.reshape(-1,1))\n",
        "print(\"Imputed Data : \\n\", df_impute.Q7.describe())\n",
        "\n",
        "# Visualize\n",
        "plt.subplots(2,2, figsize = (15,5))\n",
        "plt.subplot(1, 2, 1) # row 1, col 2 index 1\n",
        "df_impute.Q7.plot(kind = 'box', title = 'Boxplot with imputing', ylabel='Age')\n",
        "\n",
        "plt.subplot(1, 2, 2) # index 2\n",
        "df_impute.Q7.plot(kind = 'hist', title = 'Histogram with imputing', xlabel='Age', ylabel='Frequency')"
      ]
    },
    {
      "cell_type": "markdown",
      "metadata": {
        "id": "L72UI6n9tQxB"
      },
      "source": [
        "**Show the graphs with the imputed and ignored datasets in one graph (in total, there should be 2 histograms and 2 boxplots). Model your visualization after the example below, and annotate each approach's mean, so that easy comparison between approaches is possible. 10 %**"
      ]
    },
    {
      "cell_type": "markdown",
      "metadata": {
        "id": "4OIfjJqYtQxB"
      },
      "source": [
        "[IMAGE](https://github.com/akkuebler/ivda_dataprocessing/blob/main/annotation_means_%20example.png)"
      ]
    },
    {
      "cell_type": "code",
      "execution_count": 18,
      "metadata": {
        "id": "laQNzmGBtQxC"
      },
      "outputs": [
        {
          "data": {
            "text/plain": [
              "Text(0.5, 1.0, 'Histogram (no impute): mean = 23.55')"
            ]
          },
          "execution_count": 18,
          "metadata": {},
          "output_type": "execute_result"
        },
        {
          "data": {
            "image/png": "[encoded data removed]",
            "text/plain": [
              "<Figure size 1080x720 with 4 Axes>"
            ]
          },
          "metadata": {
            "needs_background": "light"
          },
          "output_type": "display_data"
        }
      ],
      "source": [
        "# Visualize\n",
        "df_no_impute = df_no_impute[~np.isnan(df_no_impute['Q7'])]\n",
        "\n",
        "fig, ((ax1,ax2),(ax3,ax4)) = plt.subplots(2, 2, figsize=(15, 10))\n",
        "ax1.boxplot(df_impute.Q7)\n",
        "ax1.set_title('Boxplot (impute): mean = '+ str(round(np.mean(df_impute.Q7),2)))\n",
        "ax2.hist(df_impute.Q7)\n",
        "ax2.set_title('Histogram (impute): mean = '+ str(round(np.mean(df_impute.Q7),2)))\n",
        "ax3.boxplot(df_no_impute.Q7)\n",
        "ax3.set_title('Boxplot (no impute): mean = '+ str(round(np.mean(df_no_impute.Q7),2)))\n",
        "ax4.hist(df_no_impute.Q7)\n",
        "ax4.set_title('Histogram (no impute): mean = '+ str(round(np.mean(df_no_impute.Q7),2)))"
      ]
    },
    {
      "cell_type": "markdown",
      "metadata": {
        "id": "dFurwujktQxC"
      },
      "source": [
        "**Shortly describe the graph. What can you infer from it? Do the boxplots and histograms differ? If so, explain why. (Max. 100 words).** **5 %**"
      ]
    },
    {
      "cell_type": "markdown",
      "metadata": {
        "id": "LVhfnLNj-88a"
      },
      "source": [
        "    YOUR RESPONSE HERE\n",
        "The overall shapes of boxplots look similar. However, as you can see from the yellow lines of the two boxplots, Q2 of both graphs are different. The boxplot with the imputed mean indicates that 50% of the data is 23, while the one ignoring the missing values indicates that 50% is 22. Moreover, since the imputed mean is roughly 23.55, the height for x = 25 is higher in the histogram with the imputed mean value than another one. Also, because of the distribution, the height of the histogram between 55-60 is more visible at the one ignoring missing values."
      ]
    },
    {
      "cell_type": "markdown",
      "metadata": {
        "id": "X5nhXg3mtQxC"
      },
      "source": [
        "## Task 2.2.3\n",
        "This task is about Q4 (Student Status).\n",
        "\n",
        "**As this is categorical data, you will form a new category for the missing data and name it *'unsanswered'*.\n",
        "Then, create a plot for each age group stated below describing the proportion of students who have attended school full-time and part-time. 5 %**\n",
        "\n",
        "*Age groups are: 18-28 and 29-38 and 39+*"
      ]
    },
    {
      "cell_type": "code",
      "execution_count": 19,
      "metadata": {},
      "outputs": [
        {
          "data": {
            "text/plain": [
              "array([<AxesSubplot:ylabel='18-28'>, <AxesSubplot:ylabel='29-38'>,\n",
              "       <AxesSubplot:ylabel='39+'>], dtype=object)"
            ]
          },
          "execution_count": 19,
          "metadata": {},
          "output_type": "execute_result"
        },
        {
          "data": {
            "image/png": "[encoded data removed]",
            "text/plain": [
              "<Figure size 1080x720 with 3 Axes>"
            ]
          },
          "metadata": {},
          "output_type": "display_data"
        }
      ],
      "source": [
        "# Form new category named \"unanswered\"\n",
        "df['Q4'].mask(df['Q4'] == 1.0, 'Full-time', inplace = True)\n",
        "df['Q4'].mask(df['Q4'] == 2.0, 'Part-time', inplace = True)\n",
        "df['Q4'].mask(df['Q4'] == np.nan, 'Unanswered', inplace = True)\n",
        "\n",
        "df = df[~np.isnan(df['Q7'])]\n",
        "def calculate_age_group(row):\n",
        "    if row['Q7'] >= 18 and row['Q7'] <= 28:\n",
        "        return '18-28'\n",
        "    elif row['Q7'] >= 29 and row['Q7'] <= 38:\n",
        "        return '29-38'\n",
        "    else:\n",
        "        return '39+'\n",
        "df['age_group'] = df.apply(lambda row: calculate_age_group(row), axis=1)\n",
        "\n",
        "# Visualize\n",
        "df.groupby('Q4').age_group.value_counts().unstack().plot.pie(subplots = True, figsize=(15, 10), legend=True, autopct='%1.1f%%')"
      ]
    },
    {
      "cell_type": "markdown",
      "metadata": {
        "id": "8c2vxV8HtQxC"
      },
      "source": [
        "\n",
        "# Task 3 (12.5 %) - Grouping data & colour coding\n",
        "Visualize students' perception of how their workload has changed since in-person classes were cancelled. Group the data depending on whether the student is a full-time or a part-time student. The associated questions in the questionaire are Q17 and Q4."
      ]
    },
    {
      "cell_type": "code",
      "execution_count": 21,
      "metadata": {
        "id": "4VY4mhJptQxC"
      },
      "outputs": [
        {
          "name": "stdout",
          "output_type": "stream",
          "text": [
            "The number of missing values in Q4: 0\n",
            "The number of missing values in Q17: 0\n"
          ]
        }
      ],
      "source": [
        "# Handling missing data\n",
        "df = df.dropna(subset=['Q4','Q17'])\n",
        "print('The number of missing values in Q4:', df.Q4.isna().sum())\n",
        "print('The number of missing values in Q17:', df.Q17.isna().sum())"
      ]
    },
    {
      "cell_type": "markdown",
      "metadata": {
        "id": "DWwc9j6xB1lK"
      },
      "source": [
        "**How are you handling missing data here? Explain your choice. (Max. 50 words)** **2.5 %**\n"
      ]
    },
    {
      "cell_type": "markdown",
      "metadata": {
        "id": "WgWEsILmB6Ep"
      },
      "source": [
        "```\n",
        "YOUR RESPONSE HERE\n",
        "```\n",
        "Since both Q4 and Q17 are categorical variables, it is better to drop the missing values than fill them. The process for the exclusion of missing data started from Q4, and then with the rest of the data, np.nan in Q17 was dropped."
      ]
    },
    {
      "cell_type": "markdown",
      "metadata": {
        "id": "M5sFOMKDCGz4"
      },
      "source": [
        "**Use an appropriate stacked bar chart as visualization. Plot it two times, once with a two-sided gradient color scheme in red/green, and the other time using the following colours: https://coolors.co/a4161a-e5383b-ffffff-f5f3f4-b1a7a6. 7.5 %**"
      ]
    },
    {
      "cell_type": "code",
      "execution_count": 23,
      "metadata": {
        "id": "Engt5vCgCGXC"
      },
      "outputs": [
        {
          "data": {
            "application/vnd.plotly.v1+json": {
              "config": {
                "plotlyServerURL": "https://plot.ly"
              },
              "data": [
                {
                  "name": "significantly smaller",
                  "type": "bar",
                  "x": [
                    "Full-time",
                    "Part-time"
                  ],
                  "y": [
                    430,
                    38
                  ]
                },
                {
                  "name": "smaller",
                  "type": "bar",
                  "x": [
                    "Full-time",
                    "Part-time"
                  ],
                  "y": [
                    685,
                    80
                  ]
                },
                {
                  "name": "the same",
                  "type": "bar",
                  "x": [
                    "Full-time",
                    "Part-time"
                  ],
                  "y": [
                    1061,
                    131
                  ]
                },
                {
                  "name": "larger",
                  "type": "bar",
                  "x": [
                    "Full-time",
                    "Part-time"
                  ],
                  "y": [
                    1320,
                    170
                  ]
                },
                {
                  "name": "significantly larger",
                  "type": "bar",
                  "x": [
                    "Full-time",
                    "Part-time"
                  ],
                  "y": [
                    854,
                    94
                  ]
                }
              ],
              "layout": {
                "barmode": "stack",
                "template": {
                  "data": {
                    "bar": [
                      {
                        "error_x": {
                          "color": "#2a3f5f"
                        },
                        "error_y": {
                          "color": "#2a3f5f"
                        },
                        "marker": {
                          "line": {
                            "color": "#E5ECF6",
                            "width": 0.5
                          },
                          "pattern": {
                            "fillmode": "overlay",
                            "size": 10,
                            "solidity": 0.2
                          }
                        },
                        "type": "bar"
                      }
                    ],
                    "barpolar": [
                      {
                        "marker": {
                          "line": {
                            "color": "#E5ECF6",
                            "width": 0.5
                          },
                          "pattern": {
                            "fillmode": "overlay",
                            "size": 10,
                            "solidity": 0.2
                          }
                        },
                        "type": "barpolar"
                      }
                    ],
                    "carpet": [
                      {
                        "aaxis": {
                          "endlinecolor": "#2a3f5f",
                          "gridcolor": "white",
                          "linecolor": "white",
                          "minorgridcolor": "white",
                          "startlinecolor": "#2a3f5f"
                        },
                        "baxis": {
                          "endlinecolor": "#2a3f5f",
                          "gridcolor": "white",
                          "linecolor": "white",
                          "minorgridcolor": "white",
                          "startlinecolor": "#2a3f5f"
                        },
                        "type": "carpet"
                      }
                    ],
                    "choropleth": [
                      {
                        "colorbar": {
                          "outlinewidth": 0,
                          "ticks": ""
                        },
                        "type": "choropleth"
                      }
                    ],
                    "contour": [
                      {
                        "colorbar": {
                          "outlinewidth": 0,
                          "ticks": ""
                        },
                        "colorscale": [
                          [
                            0,
                            "#0d0887"
                          ],
                          [
                            0.1111111111111111,
                            "#46039f"
                          ],
                          [
                            0.2222222222222222,
                            "#7201a8"
                          ],
                          [
                            0.3333333333333333,
                            "#9c179e"
                          ],
                          [
                            0.4444444444444444,
                            "#bd3786"
                          ],
                          [
                            0.5555555555555556,
                            "#d8576b"
                          ],
                          [
                            0.6666666666666666,
                            "#ed7953"
                          ],
                          [
                            0.7777777777777778,
                            "#fb9f3a"
                          ],
                          [
                            0.8888888888888888,
                            "#fdca26"
                          ],
                          [
                            1,
                            "#f0f921"
                          ]
                        ],
                        "type": "contour"
                      }
                    ],
                    "contourcarpet": [
                      {
                        "colorbar": {
                          "outlinewidth": 0,
                          "ticks": ""
                        },
                        "type": "contourcarpet"
                      }
                    ],
                    "heatmap": [
                      {
                        "colorbar": {
                          "outlinewidth": 0,
                          "ticks": ""
                        },
                        "colorscale": [
                          [
                            0,
                            "#0d0887"
                          ],
                          [
                            0.1111111111111111,
                            "#46039f"
                          ],
                          [
                            0.2222222222222222,
                            "#7201a8"
                          ],
                          [
                            0.3333333333333333,
                            "#9c179e"
                          ],
                          [
                            0.4444444444444444,
                            "#bd3786"
                          ],
                          [
                            0.5555555555555556,
                            "#d8576b"
                          ],
                          [
                            0.6666666666666666,
                            "#ed7953"
                          ],
                          [
                            0.7777777777777778,
                            "#fb9f3a"
                          ],
                          [
                            0.8888888888888888,
                            "#fdca26"
                          ],
                          [
                            1,
                            "#f0f921"
                          ]
                        ],
                        "type": "heatmap"
                      }
                    ],
                    "heatmapgl": [
                      {
                        "colorbar": {
                          "outlinewidth": 0,
                          "ticks": ""
                        },
                        "colorscale": [
                          [
                            0,
                            "#0d0887"
                          ],
                          [
                            0.1111111111111111,
                            "#46039f"
                          ],
                          [
                            0.2222222222222222,
                            "#7201a8"
                          ],
                          [
                            0.3333333333333333,
                            "#9c179e"
                          ],
                          [
                            0.4444444444444444,
                            "#bd3786"
                          ],
                          [
                            0.5555555555555556,
                            "#d8576b"
                          ],
                          [
                            0.6666666666666666,
                            "#ed7953"
                          ],
                          [
                            0.7777777777777778,
                            "#fb9f3a"
                          ],
                          [
                            0.8888888888888888,
                            "#fdca26"
                          ],
                          [
                            1,
                            "#f0f921"
                          ]
                        ],
                        "type": "heatmapgl"
                      }
                    ],
                    "histogram": [
                      {
                        "marker": {
                          "pattern": {
                            "fillmode": "overlay",
                            "size": 10,
                            "solidity": 0.2
                          }
                        },
                        "type": "histogram"
                      }
                    ],
                    "histogram2d": [
                      {
                        "colorbar": {
                          "outlinewidth": 0,
                          "ticks": ""
                        },
                        "colorscale": [
                          [
                            0,
                            "#0d0887"
                          ],
                          [
                            0.1111111111111111,
                            "#46039f"
                          ],
                          [
                            0.2222222222222222,
                            "#7201a8"
                          ],
                          [
                            0.3333333333333333,
                            "#9c179e"
                          ],
                          [
                            0.4444444444444444,
                            "#bd3786"
                          ],
                          [
                            0.5555555555555556,
                            "#d8576b"
                          ],
                          [
                            0.6666666666666666,
                            "#ed7953"
                          ],
                          [
                            0.7777777777777778,
                            "#fb9f3a"
                          ],
                          [
                            0.8888888888888888,
                            "#fdca26"
                          ],
                          [
                            1,
                            "#f0f921"
                          ]
                        ],
                        "type": "histogram2d"
                      }
                    ],
                    "histogram2dcontour": [
                      {
                        "colorbar": {
                          "outlinewidth": 0,
                          "ticks": ""
                        },
                        "colorscale": [
                          [
                            0,
                            "#0d0887"
                          ],
                          [
                            0.1111111111111111,
                            "#46039f"
                          ],
                          [
                            0.2222222222222222,
                            "#7201a8"
                          ],
                          [
                            0.3333333333333333,
                            "#9c179e"
                          ],
                          [
                            0.4444444444444444,
                            "#bd3786"
                          ],
                          [
                            0.5555555555555556,
                            "#d8576b"
                          ],
                          [
                            0.6666666666666666,
                            "#ed7953"
                          ],
                          [
                            0.7777777777777778,
                            "#fb9f3a"
                          ],
                          [
                            0.8888888888888888,
                            "#fdca26"
                          ],
                          [
                            1,
                            "#f0f921"
                          ]
                        ],
                        "type": "histogram2dcontour"
                      }
                    ],
                    "mesh3d": [
                      {
                        "colorbar": {
                          "outlinewidth": 0,
                          "ticks": ""
                        },
                        "type": "mesh3d"
                      }
                    ],
                    "parcoords": [
                      {
                        "line": {
                          "colorbar": {
                            "outlinewidth": 0,
                            "ticks": ""
                          }
                        },
                        "type": "parcoords"
                      }
                    ],
                    "pie": [
                      {
                        "automargin": true,
                        "type": "pie"
                      }
                    ],
                    "scatter": [
                      {
                        "fillpattern": {
                          "fillmode": "overlay",
                          "size": 10,
                          "solidity": 0.2
                        },
                        "type": "scatter"
                      }
                    ],
                    "scatter3d": [
                      {
                        "line": {
                          "colorbar": {
                            "outlinewidth": 0,
                            "ticks": ""
                          }
                        },
                        "marker": {
                          "colorbar": {
                            "outlinewidth": 0,
                            "ticks": ""
                          }
                        },
                        "type": "scatter3d"
                      }
                    ],
                    "scattercarpet": [
                      {
                        "marker": {
                          "colorbar": {
                            "outlinewidth": 0,
                            "ticks": ""
                          }
                        },
                        "type": "scattercarpet"
                      }
                    ],
                    "scattergeo": [
                      {
                        "marker": {
                          "colorbar": {
                            "outlinewidth": 0,
                            "ticks": ""
                          }
                        },
                        "type": "scattergeo"
                      }
                    ],
                    "scattergl": [
                      {
                        "marker": {
                          "colorbar": {
                            "outlinewidth": 0,
                            "ticks": ""
                          }
                        },
                        "type": "scattergl"
                      }
                    ],
                    "scattermapbox": [
                      {
                        "marker": {
                          "colorbar": {
                            "outlinewidth": 0,
                            "ticks": ""
                          }
                        },
                        "type": "scattermapbox"
                      }
                    ],
                    "scatterpolar": [
                      {
                        "marker": {
                          "colorbar": {
                            "outlinewidth": 0,
                            "ticks": ""
                          }
                        },
                        "type": "scatterpolar"
                      }
                    ],
                    "scatterpolargl": [
                      {
                        "marker": {
                          "colorbar": {
                            "outlinewidth": 0,
                            "ticks": ""
                          }
                        },
                        "type": "scatterpolargl"
                      }
                    ],
                    "scatterternary": [
                      {
                        "marker": {
                          "colorbar": {
                            "outlinewidth": 0,
                            "ticks": ""
                          }
                        },
                        "type": "scatterternary"
                      }
                    ],
                    "surface": [
                      {
                        "colorbar": {
                          "outlinewidth": 0,
                          "ticks": ""
                        },
                        "colorscale": [
                          [
                            0,
                            "#0d0887"
                          ],
                          [
                            0.1111111111111111,
                            "#46039f"
                          ],
                          [
                            0.2222222222222222,
                            "#7201a8"
                          ],
                          [
                            0.3333333333333333,
                            "#9c179e"
                          ],
                          [
                            0.4444444444444444,
                            "#bd3786"
                          ],
                          [
                            0.5555555555555556,
                            "#d8576b"
                          ],
                          [
                            0.6666666666666666,
                            "#ed7953"
                          ],
                          [
                            0.7777777777777778,
                            "#fb9f3a"
                          ],
                          [
                            0.8888888888888888,
                            "#fdca26"
                          ],
                          [
                            1,
                            "#f0f921"
                          ]
                        ],
                        "type": "surface"
                      }
                    ],
                    "table": [
                      {
                        "cells": {
                          "fill": {
                            "color": "#EBF0F8"
                          },
                          "line": {
                            "color": "white"
                          }
                        },
                        "header": {
                          "fill": {
                            "color": "#C8D4E3"
                          },
                          "line": {
                            "color": "white"
                          }
                        },
                        "type": "table"
                      }
                    ]
                  },
                  "layout": {
                    "annotationdefaults": {
                      "arrowcolor": "#2a3f5f",
                      "arrowhead": 0,
                      "arrowwidth": 1
                    },
                    "autotypenumbers": "strict",
                    "coloraxis": {
                      "colorbar": {
                        "outlinewidth": 0,
                        "ticks": ""
                      }
                    },
                    "colorscale": {
                      "diverging": [
                        [
                          0,
                          "#8e0152"
                        ],
                        [
                          0.1,
                          "#c51b7d"
                        ],
                        [
                          0.2,
                          "#de77ae"
                        ],
                        [
                          0.3,
                          "#f1b6da"
                        ],
                        [
                          0.4,
                          "#fde0ef"
                        ],
                        [
                          0.5,
                          "#f7f7f7"
                        ],
                        [
                          0.6,
                          "#e6f5d0"
                        ],
                        [
                          0.7,
                          "#b8e186"
                        ],
                        [
                          0.8,
                          "#7fbc41"
                        ],
                        [
                          0.9,
                          "#4d9221"
                        ],
                        [
                          1,
                          "#276419"
                        ]
                      ],
                      "sequential": [
                        [
                          0,
                          "#0d0887"
                        ],
                        [
                          0.1111111111111111,
                          "#46039f"
                        ],
                        [
                          0.2222222222222222,
                          "#7201a8"
                        ],
                        [
                          0.3333333333333333,
                          "#9c179e"
                        ],
                        [
                          0.4444444444444444,
                          "#bd3786"
                        ],
                        [
                          0.5555555555555556,
                          "#d8576b"
                        ],
                        [
                          0.6666666666666666,
                          "#ed7953"
                        ],
                        [
                          0.7777777777777778,
                          "#fb9f3a"
                        ],
                        [
                          0.8888888888888888,
                          "#fdca26"
                        ],
                        [
                          1,
                          "#f0f921"
                        ]
                      ],
                      "sequentialminus": [
                        [
                          0,
                          "#0d0887"
                        ],
                        [
                          0.1111111111111111,
                          "#46039f"
                        ],
                        [
                          0.2222222222222222,
                          "#7201a8"
                        ],
                        [
                          0.3333333333333333,
                          "#9c179e"
                        ],
                        [
                          0.4444444444444444,
                          "#bd3786"
                        ],
                        [
                          0.5555555555555556,
                          "#d8576b"
                        ],
                        [
                          0.6666666666666666,
                          "#ed7953"
                        ],
                        [
                          0.7777777777777778,
                          "#fb9f3a"
                        ],
                        [
                          0.8888888888888888,
                          "#fdca26"
                        ],
                        [
                          1,
                          "#f0f921"
                        ]
                      ]
                    },
                    "colorway": [
                      "#636efa",
                      "#EF553B",
                      "#00cc96",
                      "#ab63fa",
                      "#FFA15A",
                      "#19d3f3",
                      "#FF6692",
                      "#B6E880",
                      "#FF97FF",
                      "#FECB52"
                    ],
                    "font": {
                      "color": "#2a3f5f"
                    },
                    "geo": {
                      "bgcolor": "white",
                      "lakecolor": "white",
                      "landcolor": "#E5ECF6",
                      "showlakes": true,
                      "showland": true,
                      "subunitcolor": "white"
                    },
                    "hoverlabel": {
                      "align": "left"
                    },
                    "hovermode": "closest",
                    "mapbox": {
                      "style": "light"
                    },
                    "paper_bgcolor": "white",
                    "plot_bgcolor": "#E5ECF6",
                    "polar": {
                      "angularaxis": {
                        "gridcolor": "white",
                        "linecolor": "white",
                        "ticks": ""
                      },
                      "bgcolor": "#E5ECF6",
                      "radialaxis": {
                        "gridcolor": "white",
                        "linecolor": "white",
                        "ticks": ""
                      }
                    },
                    "scene": {
                      "xaxis": {
                        "backgroundcolor": "#E5ECF6",
                        "gridcolor": "white",
                        "gridwidth": 2,
                        "linecolor": "white",
                        "showbackground": true,
                        "ticks": "",
                        "zerolinecolor": "white"
                      },
                      "yaxis": {
                        "backgroundcolor": "#E5ECF6",
                        "gridcolor": "white",
                        "gridwidth": 2,
                        "linecolor": "white",
                        "showbackground": true,
                        "ticks": "",
                        "zerolinecolor": "white"
                      },
                      "zaxis": {
                        "backgroundcolor": "#E5ECF6",
                        "gridcolor": "white",
                        "gridwidth": 2,
                        "linecolor": "white",
                        "showbackground": true,
                        "ticks": "",
                        "zerolinecolor": "white"
                      }
                    },
                    "shapedefaults": {
                      "line": {
                        "color": "#2a3f5f"
                      }
                    },
                    "ternary": {
                      "aaxis": {
                        "gridcolor": "white",
                        "linecolor": "white",
                        "ticks": ""
                      },
                      "baxis": {
                        "gridcolor": "white",
                        "linecolor": "white",
                        "ticks": ""
                      },
                      "bgcolor": "#E5ECF6",
                      "caxis": {
                        "gridcolor": "white",
                        "linecolor": "white",
                        "ticks": ""
                      }
                    },
                    "title": {
                      "x": 0.05
                    },
                    "xaxis": {
                      "automargin": true,
                      "gridcolor": "white",
                      "linecolor": "white",
                      "ticks": "",
                      "title": {
                        "standoff": 15
                      },
                      "zerolinecolor": "white",
                      "zerolinewidth": 2
                    },
                    "yaxis": {
                      "automargin": true,
                      "gridcolor": "white",
                      "linecolor": "white",
                      "ticks": "",
                      "title": {
                        "standoff": 15
                      },
                      "zerolinecolor": "white",
                      "zerolinewidth": 2
                    }
                  }
                },
                "title": {
                  "text": "Workload by status: red/green"
                }
              }
            }
          },
          "metadata": {},
          "output_type": "display_data"
        },
        {
          "data": {
            "application/vnd.plotly.v1+json": {
              "config": {
                "plotlyServerURL": "https://plot.ly"
              },
              "data": [
                {
                  "marker": {
                    "color": "rgb(164,22,26)"
                  },
                  "name": "significantly smaller",
                  "type": "bar",
                  "x": [
                    "Full-time",
                    "Part-time"
                  ],
                  "y": [
                    430,
                    38
                  ]
                },
                {
                  "marker": {
                    "color": "rgb(229,56,59)"
                  },
                  "name": "smaller",
                  "type": "bar",
                  "x": [
                    "Full-time",
                    "Part-time"
                  ],
                  "y": [
                    685,
                    80
                  ]
                },
                {
                  "marker": {
                    "color": "rgb(255,255,255)"
                  },
                  "name": "the same",
                  "type": "bar",
                  "x": [
                    "Full-time",
                    "Part-time"
                  ],
                  "y": [
                    1061,
                    131
                  ]
                },
                {
                  "marker": {
                    "color": "rgb(245,243,244)"
                  },
                  "name": "larger",
                  "type": "bar",
                  "x": [
                    "Full-time",
                    "Part-time"
                  ],
                  "y": [
                    1320,
                    170
                  ]
                },
                {
                  "marker": {
                    "color": "rgb(177,167,166)"
                  },
                  "name": "significantly larger",
                  "type": "bar",
                  "x": [
                    "Full-time",
                    "Part-time"
                  ],
                  "y": [
                    854,
                    94
                  ]
                }
              ],
              "layout": {
                "barmode": "stack",
                "template": {
                  "data": {
                    "bar": [
                      {
                        "error_x": {
                          "color": "#2a3f5f"
                        },
                        "error_y": {
                          "color": "#2a3f5f"
                        },
                        "marker": {
                          "line": {
                            "color": "#E5ECF6",
                            "width": 0.5
                          },
                          "pattern": {
                            "fillmode": "overlay",
                            "size": 10,
                            "solidity": 0.2
                          }
                        },
                        "type": "bar"
                      }
                    ],
                    "barpolar": [
                      {
                        "marker": {
                          "line": {
                            "color": "#E5ECF6",
                            "width": 0.5
                          },
                          "pattern": {
                            "fillmode": "overlay",
                            "size": 10,
                            "solidity": 0.2
                          }
                        },
                        "type": "barpolar"
                      }
                    ],
                    "carpet": [
                      {
                        "aaxis": {
                          "endlinecolor": "#2a3f5f",
                          "gridcolor": "white",
                          "linecolor": "white",
                          "minorgridcolor": "white",
                          "startlinecolor": "#2a3f5f"
                        },
                        "baxis": {
                          "endlinecolor": "#2a3f5f",
                          "gridcolor": "white",
                          "linecolor": "white",
                          "minorgridcolor": "white",
                          "startlinecolor": "#2a3f5f"
                        },
                        "type": "carpet"
                      }
                    ],
                    "choropleth": [
                      {
                        "colorbar": {
                          "outlinewidth": 0,
                          "ticks": ""
                        },
                        "type": "choropleth"
                      }
                    ],
                    "contour": [
                      {
                        "colorbar": {
                          "outlinewidth": 0,
                          "ticks": ""
                        },
                        "colorscale": [
                          [
                            0,
                            "#0d0887"
                          ],
                          [
                            0.1111111111111111,
                            "#46039f"
                          ],
                          [
                            0.2222222222222222,
                            "#7201a8"
                          ],
                          [
                            0.3333333333333333,
                            "#9c179e"
                          ],
                          [
                            0.4444444444444444,
                            "#bd3786"
                          ],
                          [
                            0.5555555555555556,
                            "#d8576b"
                          ],
                          [
                            0.6666666666666666,
                            "#ed7953"
                          ],
                          [
                            0.7777777777777778,
                            "#fb9f3a"
                          ],
                          [
                            0.8888888888888888,
                            "#fdca26"
                          ],
                          [
                            1,
                            "#f0f921"
                          ]
                        ],
                        "type": "contour"
                      }
                    ],
                    "contourcarpet": [
                      {
                        "colorbar": {
                          "outlinewidth": 0,
                          "ticks": ""
                        },
                        "type": "contourcarpet"
                      }
                    ],
                    "heatmap": [
                      {
                        "colorbar": {
                          "outlinewidth": 0,
                          "ticks": ""
                        },
                        "colorscale": [
                          [
                            0,
                            "#0d0887"
                          ],
                          [
                            0.1111111111111111,
                            "#46039f"
                          ],
                          [
                            0.2222222222222222,
                            "#7201a8"
                          ],
                          [
                            0.3333333333333333,
                            "#9c179e"
                          ],
                          [
                            0.4444444444444444,
                            "#bd3786"
                          ],
                          [
                            0.5555555555555556,
                            "#d8576b"
                          ],
                          [
                            0.6666666666666666,
                            "#ed7953"
                          ],
                          [
                            0.7777777777777778,
                            "#fb9f3a"
                          ],
                          [
                            0.8888888888888888,
                            "#fdca26"
                          ],
                          [
                            1,
                            "#f0f921"
                          ]
                        ],
                        "type": "heatmap"
                      }
                    ],
                    "heatmapgl": [
                      {
                        "colorbar": {
                          "outlinewidth": 0,
                          "ticks": ""
                        },
                        "colorscale": [
                          [
                            0,
                            "#0d0887"
                          ],
                          [
                            0.1111111111111111,
                            "#46039f"
                          ],
                          [
                            0.2222222222222222,
                            "#7201a8"
                          ],
                          [
                            0.3333333333333333,
                            "#9c179e"
                          ],
                          [
                            0.4444444444444444,
                            "#bd3786"
                          ],
                          [
                            0.5555555555555556,
                            "#d8576b"
                          ],
                          [
                            0.6666666666666666,
                            "#ed7953"
                          ],
                          [
                            0.7777777777777778,
                            "#fb9f3a"
                          ],
                          [
                            0.8888888888888888,
                            "#fdca26"
                          ],
                          [
                            1,
                            "#f0f921"
                          ]
                        ],
                        "type": "heatmapgl"
                      }
                    ],
                    "histogram": [
                      {
                        "marker": {
                          "pattern": {
                            "fillmode": "overlay",
                            "size": 10,
                            "solidity": 0.2
                          }
                        },
                        "type": "histogram"
                      }
                    ],
                    "histogram2d": [
                      {
                        "colorbar": {
                          "outlinewidth": 0,
                          "ticks": ""
                        },
                        "colorscale": [
                          [
                            0,
                            "#0d0887"
                          ],
                          [
                            0.1111111111111111,
                            "#46039f"
                          ],
                          [
                            0.2222222222222222,
                            "#7201a8"
                          ],
                          [
                            0.3333333333333333,
                            "#9c179e"
                          ],
                          [
                            0.4444444444444444,
                            "#bd3786"
                          ],
                          [
                            0.5555555555555556,
                            "#d8576b"
                          ],
                          [
                            0.6666666666666666,
                            "#ed7953"
                          ],
                          [
                            0.7777777777777778,
                            "#fb9f3a"
                          ],
                          [
                            0.8888888888888888,
                            "#fdca26"
                          ],
                          [
                            1,
                            "#f0f921"
                          ]
                        ],
                        "type": "histogram2d"
                      }
                    ],
                    "histogram2dcontour": [
                      {
                        "colorbar": {
                          "outlinewidth": 0,
                          "ticks": ""
                        },
                        "colorscale": [
                          [
                            0,
                            "#0d0887"
                          ],
                          [
                            0.1111111111111111,
                            "#46039f"
                          ],
                          [
                            0.2222222222222222,
                            "#7201a8"
                          ],
                          [
                            0.3333333333333333,
                            "#9c179e"
                          ],
                          [
                            0.4444444444444444,
                            "#bd3786"
                          ],
                          [
                            0.5555555555555556,
                            "#d8576b"
                          ],
                          [
                            0.6666666666666666,
                            "#ed7953"
                          ],
                          [
                            0.7777777777777778,
                            "#fb9f3a"
                          ],
                          [
                            0.8888888888888888,
                            "#fdca26"
                          ],
                          [
                            1,
                            "#f0f921"
                          ]
                        ],
                        "type": "histogram2dcontour"
                      }
                    ],
                    "mesh3d": [
                      {
                        "colorbar": {
                          "outlinewidth": 0,
                          "ticks": ""
                        },
                        "type": "mesh3d"
                      }
                    ],
                    "parcoords": [
                      {
                        "line": {
                          "colorbar": {
                            "outlinewidth": 0,
                            "ticks": ""
                          }
                        },
                        "type": "parcoords"
                      }
                    ],
                    "pie": [
                      {
                        "automargin": true,
                        "type": "pie"
                      }
                    ],
                    "scatter": [
                      {
                        "fillpattern": {
                          "fillmode": "overlay",
                          "size": 10,
                          "solidity": 0.2
                        },
                        "type": "scatter"
                      }
                    ],
                    "scatter3d": [
                      {
                        "line": {
                          "colorbar": {
                            "outlinewidth": 0,
                            "ticks": ""
                          }
                        },
                        "marker": {
                          "colorbar": {
                            "outlinewidth": 0,
                            "ticks": ""
                          }
                        },
                        "type": "scatter3d"
                      }
                    ],
                    "scattercarpet": [
                      {
                        "marker": {
                          "colorbar": {
                            "outlinewidth": 0,
                            "ticks": ""
                          }
                        },
                        "type": "scattercarpet"
                      }
                    ],
                    "scattergeo": [
                      {
                        "marker": {
                          "colorbar": {
                            "outlinewidth": 0,
                            "ticks": ""
                          }
                        },
                        "type": "scattergeo"
                      }
                    ],
                    "scattergl": [
                      {
                        "marker": {
                          "colorbar": {
                            "outlinewidth": 0,
                            "ticks": ""
                          }
                        },
                        "type": "scattergl"
                      }
                    ],
                    "scattermapbox": [
                      {
                        "marker": {
                          "colorbar": {
                            "outlinewidth": 0,
                            "ticks": ""
                          }
                        },
                        "type": "scattermapbox"
                      }
                    ],
                    "scatterpolar": [
                      {
                        "marker": {
                          "colorbar": {
                            "outlinewidth": 0,
                            "ticks": ""
                          }
                        },
                        "type": "scatterpolar"
                      }
                    ],
                    "scatterpolargl": [
                      {
                        "marker": {
                          "colorbar": {
                            "outlinewidth": 0,
                            "ticks": ""
                          }
                        },
                        "type": "scatterpolargl"
                      }
                    ],
                    "scatterternary": [
                      {
                        "marker": {
                          "colorbar": {
                            "outlinewidth": 0,
                            "ticks": ""
                          }
                        },
                        "type": "scatterternary"
                      }
                    ],
                    "surface": [
                      {
                        "colorbar": {
                          "outlinewidth": 0,
                          "ticks": ""
                        },
                        "colorscale": [
                          [
                            0,
                            "#0d0887"
                          ],
                          [
                            0.1111111111111111,
                            "#46039f"
                          ],
                          [
                            0.2222222222222222,
                            "#7201a8"
                          ],
                          [
                            0.3333333333333333,
                            "#9c179e"
                          ],
                          [
                            0.4444444444444444,
                            "#bd3786"
                          ],
                          [
                            0.5555555555555556,
                            "#d8576b"
                          ],
                          [
                            0.6666666666666666,
                            "#ed7953"
                          ],
                          [
                            0.7777777777777778,
                            "#fb9f3a"
                          ],
                          [
                            0.8888888888888888,
                            "#fdca26"
                          ],
                          [
                            1,
                            "#f0f921"
                          ]
                        ],
                        "type": "surface"
                      }
                    ],
                    "table": [
                      {
                        "cells": {
                          "fill": {
                            "color": "#EBF0F8"
                          },
                          "line": {
                            "color": "white"
                          }
                        },
                        "header": {
                          "fill": {
                            "color": "#C8D4E3"
                          },
                          "line": {
                            "color": "white"
                          }
                        },
                        "type": "table"
                      }
                    ]
                  },
                  "layout": {
                    "annotationdefaults": {
                      "arrowcolor": "#2a3f5f",
                      "arrowhead": 0,
                      "arrowwidth": 1
                    },
                    "autotypenumbers": "strict",
                    "coloraxis": {
                      "colorbar": {
                        "outlinewidth": 0,
                        "ticks": ""
                      }
                    },
                    "colorscale": {
                      "diverging": [
                        [
                          0,
                          "#8e0152"
                        ],
                        [
                          0.1,
                          "#c51b7d"
                        ],
                        [
                          0.2,
                          "#de77ae"
                        ],
                        [
                          0.3,
                          "#f1b6da"
                        ],
                        [
                          0.4,
                          "#fde0ef"
                        ],
                        [
                          0.5,
                          "#f7f7f7"
                        ],
                        [
                          0.6,
                          "#e6f5d0"
                        ],
                        [
                          0.7,
                          "#b8e186"
                        ],
                        [
                          0.8,
                          "#7fbc41"
                        ],
                        [
                          0.9,
                          "#4d9221"
                        ],
                        [
                          1,
                          "#276419"
                        ]
                      ],
                      "sequential": [
                        [
                          0,
                          "#0d0887"
                        ],
                        [
                          0.1111111111111111,
                          "#46039f"
                        ],
                        [
                          0.2222222222222222,
                          "#7201a8"
                        ],
                        [
                          0.3333333333333333,
                          "#9c179e"
                        ],
                        [
                          0.4444444444444444,
                          "#bd3786"
                        ],
                        [
                          0.5555555555555556,
                          "#d8576b"
                        ],
                        [
                          0.6666666666666666,
                          "#ed7953"
                        ],
                        [
                          0.7777777777777778,
                          "#fb9f3a"
                        ],
                        [
                          0.8888888888888888,
                          "#fdca26"
                        ],
                        [
                          1,
                          "#f0f921"
                        ]
                      ],
                      "sequentialminus": [
                        [
                          0,
                          "#0d0887"
                        ],
                        [
                          0.1111111111111111,
                          "#46039f"
                        ],
                        [
                          0.2222222222222222,
                          "#7201a8"
                        ],
                        [
                          0.3333333333333333,
                          "#9c179e"
                        ],
                        [
                          0.4444444444444444,
                          "#bd3786"
                        ],
                        [
                          0.5555555555555556,
                          "#d8576b"
                        ],
                        [
                          0.6666666666666666,
                          "#ed7953"
                        ],
                        [
                          0.7777777777777778,
                          "#fb9f3a"
                        ],
                        [
                          0.8888888888888888,
                          "#fdca26"
                        ],
                        [
                          1,
                          "#f0f921"
                        ]
                      ]
                    },
                    "colorway": [
                      "#636efa",
                      "#EF553B",
                      "#00cc96",
                      "#ab63fa",
                      "#FFA15A",
                      "#19d3f3",
                      "#FF6692",
                      "#B6E880",
                      "#FF97FF",
                      "#FECB52"
                    ],
                    "font": {
                      "color": "#2a3f5f"
                    },
                    "geo": {
                      "bgcolor": "white",
                      "lakecolor": "white",
                      "landcolor": "#E5ECF6",
                      "showlakes": true,
                      "showland": true,
                      "subunitcolor": "white"
                    },
                    "hoverlabel": {
                      "align": "left"
                    },
                    "hovermode": "closest",
                    "mapbox": {
                      "style": "light"
                    },
                    "paper_bgcolor": "white",
                    "plot_bgcolor": "#E5ECF6",
                    "polar": {
                      "angularaxis": {
                        "gridcolor": "white",
                        "linecolor": "white",
                        "ticks": ""
                      },
                      "bgcolor": "#E5ECF6",
                      "radialaxis": {
                        "gridcolor": "white",
                        "linecolor": "white",
                        "ticks": ""
                      }
                    },
                    "scene": {
                      "xaxis": {
                        "backgroundcolor": "#E5ECF6",
                        "gridcolor": "white",
                        "gridwidth": 2,
                        "linecolor": "white",
                        "showbackground": true,
                        "ticks": "",
                        "zerolinecolor": "white"
                      },
                      "yaxis": {
                        "backgroundcolor": "#E5ECF6",
                        "gridcolor": "white",
                        "gridwidth": 2,
                        "linecolor": "white",
                        "showbackground": true,
                        "ticks": "",
                        "zerolinecolor": "white"
                      },
                      "zaxis": {
                        "backgroundcolor": "#E5ECF6",
                        "gridcolor": "white",
                        "gridwidth": 2,
                        "linecolor": "white",
                        "showbackground": true,
                        "ticks": "",
                        "zerolinecolor": "white"
                      }
                    },
                    "shapedefaults": {
                      "line": {
                        "color": "#2a3f5f"
                      }
                    },
                    "ternary": {
                      "aaxis": {
                        "gridcolor": "white",
                        "linecolor": "white",
                        "ticks": ""
                      },
                      "baxis": {
                        "gridcolor": "white",
                        "linecolor": "white",
                        "ticks": ""
                      },
                      "bgcolor": "#E5ECF6",
                      "caxis": {
                        "gridcolor": "white",
                        "linecolor": "white",
                        "ticks": ""
                      }
                    },
                    "title": {
                      "x": 0.05
                    },
                    "xaxis": {
                      "automargin": true,
                      "gridcolor": "white",
                      "linecolor": "white",
                      "ticks": "",
                      "title": {
                        "standoff": 15
                      },
                      "zerolinecolor": "white",
                      "zerolinewidth": 2
                    },
                    "yaxis": {
                      "automargin": true,
                      "gridcolor": "white",
                      "linecolor": "white",
                      "ticks": "",
                      "title": {
                        "standoff": 15
                      },
                      "zerolinecolor": "white",
                      "zerolinewidth": 2
                    }
                  }
                },
                "title": {
                  "text": "Workload by status: selected colour scheme"
                }
              }
            }
          },
          "metadata": {},
          "output_type": "display_data"
        }
      ],
      "source": [
        "# Visualizations\n",
        "df['Q4'].mask(df['Q4'] == 1.0, 'Full-time', inplace = True)\n",
        "df['Q4'].mask(df['Q4'] == 2.0, 'Part-time', inplace = True)\n",
        "df['Q17'].mask(df['Q17'] == 1.0, 'significantly smaller', inplace = True)\n",
        "df['Q17'].mask(df['Q17'] == 2.0, 'smaller', inplace = True)\n",
        "df['Q17'].mask(df['Q17'] == 3.0, 'the same', inplace = True)\n",
        "df['Q17'].mask(df['Q17'] == 4.0, 'larger', inplace = True)\n",
        "df['Q17'].mask(df['Q17'] == 5.0, 'significantly larger', inplace = True)\n",
        "\n",
        "status = ['Full-time', 'Part-time']\n",
        "fig1 = go.Figure(data=[\n",
        "    go.Bar(name='significantly smaller', x=status, y=[430, 38]),\n",
        "    go.Bar(name='smaller', x=status, y=[685, 80]),\n",
        "    go.Bar(name='the same', x=status, y=[1061, 131]),\n",
        "    go.Bar(name='larger', x=status, y=[1320, 170]),\n",
        "    go.Bar(name='significantly larger', x=status, y=[854, 94])\n",
        "])\n",
        "fig1.update_layout(barmode = 'stack', title = 'Workload by status: red/green')\n",
        "fig1.show()\n",
        "\n",
        "fig2 = go.Figure(data=[\n",
        "    go.Bar(name='significantly smaller', x=status, y=[430, 38], marker_color = 'rgb(164,22,26)'),\n",
        "    go.Bar(name='smaller', x=status, y=[685, 80], marker_color = 'rgb(229,56,59)'),\n",
        "    go.Bar(name='the same', x=status, y=[1061, 131], marker_color = 'rgb(255,255,255)'),\n",
        "    go.Bar(name='larger', x=status, y=[1320, 170], marker_color = 'rgb(245,243,244)'),\n",
        "    go.Bar(name='significantly larger', x=status, y=[854, 94], marker_color = 'rgb(177,167,166)')\n",
        "])\n",
        "fig2.update_layout(barmode = 'stack', title = 'Workload by status: selected colour scheme')\n",
        "fig2.show()"
      ]
    },
    {
      "cell_type": "markdown",
      "metadata": {
        "id": "0twwscG_Ch4X"
      },
      "source": [
        "**Discuss the pros and cons of the second colour scheme, and why it might sometimes not be appropriate to use. (Max. 50 words)**  **2.5 %**"
      ]
    },
    {
      "cell_type": "markdown",
      "metadata": {
        "id": "9GLfMYz5CPHI"
      },
      "source": [
        "\n",
        "```\n",
        "YOUR RESPONSE HERE\n",
        "```\n",
        "Firstly, it is difficult to distinguish between variables with similar colours. For instance, it is difficult to differentiate 'the same' and 'larger' from each other as they both have whiteish colours. Also, as it is not a gradient, it is hard to express the ordinal variable, in this case, workload."
      ]
    },
    {
      "cell_type": "markdown",
      "metadata": {
        "id": "wLoqIUjxtQxD"
      },
      "source": [
        "# Task 4 (25 %) - Normalizing data & colour coding\n",
        "In this last task, you will build an \"emotional satisfaction score\" (ESS) using the data from Q25. \n",
        "\n",
        "To do this, you will group the data into positive and negative feelings, sum up the relevant features, and then normalize the results to a scale of 0 to 1. Use the value for the given categorical data item in Q25 as a measure of \"emotional intensity\" (i.e. 'Never'= 1 and 'Always'= 5). Our \"emotional satisfaction score\" attempts to balance out positive and negative emotions, and so you will calculate it using the formula: \n",
        "\n",
        "    ESS = (positive emotions score sum) - (negative emotions score sum) \n",
        "\n",
        "Afterwards, use an appropriate colour-coded plot to show differences between Bachelor, Masters, and PhD students, using responses from Q5.\n",
        "\n",
        "**Plot: 20 %**"
      ]
    },
    {
      "cell_type": "code",
      "execution_count": 31,
      "metadata": {
        "id": "OgQ6K5KjtQxD"
      },
      "outputs": [
        {
          "name": "stdout",
          "output_type": "stream",
          "text": [
            "The dataset contains 4863 data records and 163 features.\n",
            "The dataframe after removing rows with NaN value in the specified columns contains 4413 data records and 163 features.\n",
            "              Q25a         Q25b         Q25c         Q25d         Q25e  \\\n",
            "count  4413.000000  4413.000000  4413.000000  4413.000000  4413.000000   \n",
            "mean      2.860412     3.144346     2.694539     3.353728     2.952640   \n",
            "std       1.055360     1.103963     1.149149     1.053298     1.076315   \n",
            "min       1.000000     1.000000     1.000000     1.000000     1.000000   \n",
            "25%       2.000000     2.000000     2.000000     3.000000     2.000000   \n",
            "50%       3.000000     3.000000     3.000000     3.000000     3.000000   \n",
            "75%       4.000000     4.000000     3.000000     4.000000     4.000000   \n",
            "max       5.000000     5.000000     5.000000     5.000000     5.000000   \n",
            "\n",
            "              Q25f         Q25g         Q25h         Q25i         Q25j  \n",
            "count  4413.000000  4413.000000  4413.000000  4413.000000  4413.000000  \n",
            "mean      3.264446     2.045094     2.631770     2.602538     3.261727  \n",
            "std       1.172593     1.077886     0.983618     1.198069     1.191986  \n",
            "min       1.000000     1.000000     1.000000     1.000000     1.000000  \n",
            "25%       3.000000     1.000000     2.000000     2.000000     3.000000  \n",
            "50%       3.000000     2.000000     3.000000     3.000000     3.000000  \n",
            "75%       4.000000     3.000000     3.000000     3.000000     4.000000  \n",
            "max       5.000000     5.000000     5.000000     5.000000     5.000000  \n"
          ]
        },
        {
          "data": {
            "application/vnd.plotly.v1+json": {
              "config": {
                "plotlyServerURL": "https://plot.ly"
              },
              "data": [
                {
                  "type": "bar",
                  "x": [
                    "Bachelor",
                    "Master",
                    "PhD"
                  ],
                  "y": [
                    -1.0815613166326827,
                    -0.8975464190981433,
                    -0.8376777251184834
                  ]
                }
              ],
              "layout": {
                "template": {
                  "data": {
                    "bar": [
                      {
                        "error_x": {
                          "color": "#2a3f5f"
                        },
                        "error_y": {
                          "color": "#2a3f5f"
                        },
                        "marker": {
                          "line": {
                            "color": "#E5ECF6",
                            "width": 0.5
                          },
                          "pattern": {
                            "fillmode": "overlay",
                            "size": 10,
                            "solidity": 0.2
                          }
                        },
                        "type": "bar"
                      }
                    ],
                    "barpolar": [
                      {
                        "marker": {
                          "line": {
                            "color": "#E5ECF6",
                            "width": 0.5
                          },
                          "pattern": {
                            "fillmode": "overlay",
                            "size": 10,
                            "solidity": 0.2
                          }
                        },
                        "type": "barpolar"
                      }
                    ],
                    "carpet": [
                      {
                        "aaxis": {
                          "endlinecolor": "#2a3f5f",
                          "gridcolor": "white",
                          "linecolor": "white",
                          "minorgridcolor": "white",
                          "startlinecolor": "#2a3f5f"
                        },
                        "baxis": {
                          "endlinecolor": "#2a3f5f",
                          "gridcolor": "white",
                          "linecolor": "white",
                          "minorgridcolor": "white",
                          "startlinecolor": "#2a3f5f"
                        },
                        "type": "carpet"
                      }
                    ],
                    "choropleth": [
                      {
                        "colorbar": {
                          "outlinewidth": 0,
                          "ticks": ""
                        },
                        "type": "choropleth"
                      }
                    ],
                    "contour": [
                      {
                        "colorbar": {
                          "outlinewidth": 0,
                          "ticks": ""
                        },
                        "colorscale": [
                          [
                            0,
                            "#0d0887"
                          ],
                          [
                            0.1111111111111111,
                            "#46039f"
                          ],
                          [
                            0.2222222222222222,
                            "#7201a8"
                          ],
                          [
                            0.3333333333333333,
                            "#9c179e"
                          ],
                          [
                            0.4444444444444444,
                            "#bd3786"
                          ],
                          [
                            0.5555555555555556,
                            "#d8576b"
                          ],
                          [
                            0.6666666666666666,
                            "#ed7953"
                          ],
                          [
                            0.7777777777777778,
                            "#fb9f3a"
                          ],
                          [
                            0.8888888888888888,
                            "#fdca26"
                          ],
                          [
                            1,
                            "#f0f921"
                          ]
                        ],
                        "type": "contour"
                      }
                    ],
                    "contourcarpet": [
                      {
                        "colorbar": {
                          "outlinewidth": 0,
                          "ticks": ""
                        },
                        "type": "contourcarpet"
                      }
                    ],
                    "heatmap": [
                      {
                        "colorbar": {
                          "outlinewidth": 0,
                          "ticks": ""
                        },
                        "colorscale": [
                          [
                            0,
                            "#0d0887"
                          ],
                          [
                            0.1111111111111111,
                            "#46039f"
                          ],
                          [
                            0.2222222222222222,
                            "#7201a8"
                          ],
                          [
                            0.3333333333333333,
                            "#9c179e"
                          ],
                          [
                            0.4444444444444444,
                            "#bd3786"
                          ],
                          [
                            0.5555555555555556,
                            "#d8576b"
                          ],
                          [
                            0.6666666666666666,
                            "#ed7953"
                          ],
                          [
                            0.7777777777777778,
                            "#fb9f3a"
                          ],
                          [
                            0.8888888888888888,
                            "#fdca26"
                          ],
                          [
                            1,
                            "#f0f921"
                          ]
                        ],
                        "type": "heatmap"
                      }
                    ],
                    "heatmapgl": [
                      {
                        "colorbar": {
                          "outlinewidth": 0,
                          "ticks": ""
                        },
                        "colorscale": [
                          [
                            0,
                            "#0d0887"
                          ],
                          [
                            0.1111111111111111,
                            "#46039f"
                          ],
                          [
                            0.2222222222222222,
                            "#7201a8"
                          ],
                          [
                            0.3333333333333333,
                            "#9c179e"
                          ],
                          [
                            0.4444444444444444,
                            "#bd3786"
                          ],
                          [
                            0.5555555555555556,
                            "#d8576b"
                          ],
                          [
                            0.6666666666666666,
                            "#ed7953"
                          ],
                          [
                            0.7777777777777778,
                            "#fb9f3a"
                          ],
                          [
                            0.8888888888888888,
                            "#fdca26"
                          ],
                          [
                            1,
                            "#f0f921"
                          ]
                        ],
                        "type": "heatmapgl"
                      }
                    ],
                    "histogram": [
                      {
                        "marker": {
                          "pattern": {
                            "fillmode": "overlay",
                            "size": 10,
                            "solidity": 0.2
                          }
                        },
                        "type": "histogram"
                      }
                    ],
                    "histogram2d": [
                      {
                        "colorbar": {
                          "outlinewidth": 0,
                          "ticks": ""
                        },
                        "colorscale": [
                          [
                            0,
                            "#0d0887"
                          ],
                          [
                            0.1111111111111111,
                            "#46039f"
                          ],
                          [
                            0.2222222222222222,
                            "#7201a8"
                          ],
                          [
                            0.3333333333333333,
                            "#9c179e"
                          ],
                          [
                            0.4444444444444444,
                            "#bd3786"
                          ],
                          [
                            0.5555555555555556,
                            "#d8576b"
                          ],
                          [
                            0.6666666666666666,
                            "#ed7953"
                          ],
                          [
                            0.7777777777777778,
                            "#fb9f3a"
                          ],
                          [
                            0.8888888888888888,
                            "#fdca26"
                          ],
                          [
                            1,
                            "#f0f921"
                          ]
                        ],
                        "type": "histogram2d"
                      }
                    ],
                    "histogram2dcontour": [
                      {
                        "colorbar": {
                          "outlinewidth": 0,
                          "ticks": ""
                        },
                        "colorscale": [
                          [
                            0,
                            "#0d0887"
                          ],
                          [
                            0.1111111111111111,
                            "#46039f"
                          ],
                          [
                            0.2222222222222222,
                            "#7201a8"
                          ],
                          [
                            0.3333333333333333,
                            "#9c179e"
                          ],
                          [
                            0.4444444444444444,
                            "#bd3786"
                          ],
                          [
                            0.5555555555555556,
                            "#d8576b"
                          ],
                          [
                            0.6666666666666666,
                            "#ed7953"
                          ],
                          [
                            0.7777777777777778,
                            "#fb9f3a"
                          ],
                          [
                            0.8888888888888888,
                            "#fdca26"
                          ],
                          [
                            1,
                            "#f0f921"
                          ]
                        ],
                        "type": "histogram2dcontour"
                      }
                    ],
                    "mesh3d": [
                      {
                        "colorbar": {
                          "outlinewidth": 0,
                          "ticks": ""
                        },
                        "type": "mesh3d"
                      }
                    ],
                    "parcoords": [
                      {
                        "line": {
                          "colorbar": {
                            "outlinewidth": 0,
                            "ticks": ""
                          }
                        },
                        "type": "parcoords"
                      }
                    ],
                    "pie": [
                      {
                        "automargin": true,
                        "type": "pie"
                      }
                    ],
                    "scatter": [
                      {
                        "fillpattern": {
                          "fillmode": "overlay",
                          "size": 10,
                          "solidity": 0.2
                        },
                        "type": "scatter"
                      }
                    ],
                    "scatter3d": [
                      {
                        "line": {
                          "colorbar": {
                            "outlinewidth": 0,
                            "ticks": ""
                          }
                        },
                        "marker": {
                          "colorbar": {
                            "outlinewidth": 0,
                            "ticks": ""
                          }
                        },
                        "type": "scatter3d"
                      }
                    ],
                    "scattercarpet": [
                      {
                        "marker": {
                          "colorbar": {
                            "outlinewidth": 0,
                            "ticks": ""
                          }
                        },
                        "type": "scattercarpet"
                      }
                    ],
                    "scattergeo": [
                      {
                        "marker": {
                          "colorbar": {
                            "outlinewidth": 0,
                            "ticks": ""
                          }
                        },
                        "type": "scattergeo"
                      }
                    ],
                    "scattergl": [
                      {
                        "marker": {
                          "colorbar": {
                            "outlinewidth": 0,
                            "ticks": ""
                          }
                        },
                        "type": "scattergl"
                      }
                    ],
                    "scattermapbox": [
                      {
                        "marker": {
                          "colorbar": {
                            "outlinewidth": 0,
                            "ticks": ""
                          }
                        },
                        "type": "scattermapbox"
                      }
                    ],
                    "scatterpolar": [
                      {
                        "marker": {
                          "colorbar": {
                            "outlinewidth": 0,
                            "ticks": ""
                          }
                        },
                        "type": "scatterpolar"
                      }
                    ],
                    "scatterpolargl": [
                      {
                        "marker": {
                          "colorbar": {
                            "outlinewidth": 0,
                            "ticks": ""
                          }
                        },
                        "type": "scatterpolargl"
                      }
                    ],
                    "scatterternary": [
                      {
                        "marker": {
                          "colorbar": {
                            "outlinewidth": 0,
                            "ticks": ""
                          }
                        },
                        "type": "scatterternary"
                      }
                    ],
                    "surface": [
                      {
                        "colorbar": {
                          "outlinewidth": 0,
                          "ticks": ""
                        },
                        "colorscale": [
                          [
                            0,
                            "#0d0887"
                          ],
                          [
                            0.1111111111111111,
                            "#46039f"
                          ],
                          [
                            0.2222222222222222,
                            "#7201a8"
                          ],
                          [
                            0.3333333333333333,
                            "#9c179e"
                          ],
                          [
                            0.4444444444444444,
                            "#bd3786"
                          ],
                          [
                            0.5555555555555556,
                            "#d8576b"
                          ],
                          [
                            0.6666666666666666,
                            "#ed7953"
                          ],
                          [
                            0.7777777777777778,
                            "#fb9f3a"
                          ],
                          [
                            0.8888888888888888,
                            "#fdca26"
                          ],
                          [
                            1,
                            "#f0f921"
                          ]
                        ],
                        "type": "surface"
                      }
                    ],
                    "table": [
                      {
                        "cells": {
                          "fill": {
                            "color": "#EBF0F8"
                          },
                          "line": {
                            "color": "white"
                          }
                        },
                        "header": {
                          "fill": {
                            "color": "#C8D4E3"
                          },
                          "line": {
                            "color": "white"
                          }
                        },
                        "type": "table"
                      }
                    ]
                  },
                  "layout": {
                    "annotationdefaults": {
                      "arrowcolor": "#2a3f5f",
                      "arrowhead": 0,
                      "arrowwidth": 1
                    },
                    "autotypenumbers": "strict",
                    "coloraxis": {
                      "colorbar": {
                        "outlinewidth": 0,
                        "ticks": ""
                      }
                    },
                    "colorscale": {
                      "diverging": [
                        [
                          0,
                          "#8e0152"
                        ],
                        [
                          0.1,
                          "#c51b7d"
                        ],
                        [
                          0.2,
                          "#de77ae"
                        ],
                        [
                          0.3,
                          "#f1b6da"
                        ],
                        [
                          0.4,
                          "#fde0ef"
                        ],
                        [
                          0.5,
                          "#f7f7f7"
                        ],
                        [
                          0.6,
                          "#e6f5d0"
                        ],
                        [
                          0.7,
                          "#b8e186"
                        ],
                        [
                          0.8,
                          "#7fbc41"
                        ],
                        [
                          0.9,
                          "#4d9221"
                        ],
                        [
                          1,
                          "#276419"
                        ]
                      ],
                      "sequential": [
                        [
                          0,
                          "#0d0887"
                        ],
                        [
                          0.1111111111111111,
                          "#46039f"
                        ],
                        [
                          0.2222222222222222,
                          "#7201a8"
                        ],
                        [
                          0.3333333333333333,
                          "#9c179e"
                        ],
                        [
                          0.4444444444444444,
                          "#bd3786"
                        ],
                        [
                          0.5555555555555556,
                          "#d8576b"
                        ],
                        [
                          0.6666666666666666,
                          "#ed7953"
                        ],
                        [
                          0.7777777777777778,
                          "#fb9f3a"
                        ],
                        [
                          0.8888888888888888,
                          "#fdca26"
                        ],
                        [
                          1,
                          "#f0f921"
                        ]
                      ],
                      "sequentialminus": [
                        [
                          0,
                          "#0d0887"
                        ],
                        [
                          0.1111111111111111,
                          "#46039f"
                        ],
                        [
                          0.2222222222222222,
                          "#7201a8"
                        ],
                        [
                          0.3333333333333333,
                          "#9c179e"
                        ],
                        [
                          0.4444444444444444,
                          "#bd3786"
                        ],
                        [
                          0.5555555555555556,
                          "#d8576b"
                        ],
                        [
                          0.6666666666666666,
                          "#ed7953"
                        ],
                        [
                          0.7777777777777778,
                          "#fb9f3a"
                        ],
                        [
                          0.8888888888888888,
                          "#fdca26"
                        ],
                        [
                          1,
                          "#f0f921"
                        ]
                      ]
                    },
                    "colorway": [
                      "#636efa",
                      "#EF553B",
                      "#00cc96",
                      "#ab63fa",
                      "#FFA15A",
                      "#19d3f3",
                      "#FF6692",
                      "#B6E880",
                      "#FF97FF",
                      "#FECB52"
                    ],
                    "font": {
                      "color": "#2a3f5f"
                    },
                    "geo": {
                      "bgcolor": "white",
                      "lakecolor": "white",
                      "landcolor": "#E5ECF6",
                      "showlakes": true,
                      "showland": true,
                      "subunitcolor": "white"
                    },
                    "hoverlabel": {
                      "align": "left"
                    },
                    "hovermode": "closest",
                    "mapbox": {
                      "style": "light"
                    },
                    "paper_bgcolor": "white",
                    "plot_bgcolor": "#E5ECF6",
                    "polar": {
                      "angularaxis": {
                        "gridcolor": "white",
                        "linecolor": "white",
                        "ticks": ""
                      },
                      "bgcolor": "#E5ECF6",
                      "radialaxis": {
                        "gridcolor": "white",
                        "linecolor": "white",
                        "ticks": ""
                      }
                    },
                    "scene": {
                      "xaxis": {
                        "backgroundcolor": "#E5ECF6",
                        "gridcolor": "white",
                        "gridwidth": 2,
                        "linecolor": "white",
                        "showbackground": true,
                        "ticks": "",
                        "zerolinecolor": "white"
                      },
                      "yaxis": {
                        "backgroundcolor": "#E5ECF6",
                        "gridcolor": "white",
                        "gridwidth": 2,
                        "linecolor": "white",
                        "showbackground": true,
                        "ticks": "",
                        "zerolinecolor": "white"
                      },
                      "zaxis": {
                        "backgroundcolor": "#E5ECF6",
                        "gridcolor": "white",
                        "gridwidth": 2,
                        "linecolor": "white",
                        "showbackground": true,
                        "ticks": "",
                        "zerolinecolor": "white"
                      }
                    },
                    "shapedefaults": {
                      "line": {
                        "color": "#2a3f5f"
                      }
                    },
                    "ternary": {
                      "aaxis": {
                        "gridcolor": "white",
                        "linecolor": "white",
                        "ticks": ""
                      },
                      "baxis": {
                        "gridcolor": "white",
                        "linecolor": "white",
                        "ticks": ""
                      },
                      "bgcolor": "#E5ECF6",
                      "caxis": {
                        "gridcolor": "white",
                        "linecolor": "white",
                        "ticks": ""
                      }
                    },
                    "title": {
                      "x": 0.05
                    },
                    "xaxis": {
                      "automargin": true,
                      "gridcolor": "white",
                      "linecolor": "white",
                      "ticks": "",
                      "title": {
                        "standoff": 15
                      },
                      "zerolinecolor": "white",
                      "zerolinewidth": 2
                    },
                    "yaxis": {
                      "automargin": true,
                      "gridcolor": "white",
                      "linecolor": "white",
                      "ticks": "",
                      "title": {
                        "standoff": 15
                      },
                      "zerolinecolor": "white",
                      "zerolinewidth": 2
                    }
                  }
                },
                "title": {
                  "text": "ESS by educational level"
                }
              }
            }
          },
          "metadata": {},
          "output_type": "display_data"
        },
        {
          "data": {
            "image/png": "[encoded data removed]",
            "text/plain": [
              "<Figure size 432x288 with 1 Axes>"
            ]
          },
          "metadata": {
            "needs_background": "light"
          },
          "output_type": "display_data"
        }
      ],
      "source": [
        "print(\"The dataset contains {} data records and {} features.\".format(df.shape[0], df.shape[1]))\n",
        "\n",
        "# Handling missing data\n",
        "df_work_emotion = df.dropna(subset=['Q25a', 'Q25b', 'Q25c', 'Q25d', 'Q25e', 'Q25f', 'Q25g', 'Q25h', 'Q25i', 'Q25j']).copy()\n",
        "print(\"The dataframe after removing rows with NaN value in the specified columns contains {} data records and {} features.\".format(df_work_emotion.shape[0], df_work_emotion.shape[1]))\n",
        "\n",
        "# Summarize specific columns\n",
        "col = ['Q25a', 'Q25b', 'Q25c', 'Q25d', 'Q25e', 'Q25f', 'Q25g', 'Q25h', 'Q25i', 'Q25j']\n",
        "print(df_work_emotion[col].describe())\n",
        "\n",
        "# Normalize new columns\n",
        "# zi = (xi – min(x)) / (max(x) – min(x))\n",
        "min = np.min(df_work_emotion['Q25a'])\n",
        "max = np.max(df_work_emotion['Q25a'])\n",
        "df_work_emotion['Q25a'] = (df_work_emotion['Q25a']-min) / (max-min)\n",
        "\n",
        "min = np.min(df_work_emotion['Q25b'])\n",
        "max = np.max(df_work_emotion['Q25b'])\n",
        "df_work_emotion['Q25b'] = (df_work_emotion['Q25b']-min) / (max-min)\n",
        "\n",
        "min = np.min(df_work_emotion['Q25c'])\n",
        "max = np.max(df_work_emotion['Q25c'])\n",
        "df_work_emotion['Q25c'] = (df_work_emotion['Q25c']-min) / (max-min)\n",
        "\n",
        "min = np.min(df_work_emotion['Q25d'])\n",
        "max = np.max(df_work_emotion['Q25d'])\n",
        "df_work_emotion['Q25d'] = (df_work_emotion['Q25d']-min) / (max-min)\n",
        "\n",
        "min = np.min(df_work_emotion['Q25e'])\n",
        "max = np.max(df_work_emotion['Q25e'])\n",
        "df_work_emotion['Q25e'] = (df_work_emotion['Q25e']-min) / (max-min)\n",
        "\n",
        "min = np.min(df_work_emotion['Q25f'])\n",
        "max = np.max(df_work_emotion['Q25f'])\n",
        "df_work_emotion['Q25f'] = (df_work_emotion['Q25f']-min) / (max-min)\n",
        "\n",
        "min = np.min(df_work_emotion['Q25g'])\n",
        "max = np.max(df_work_emotion['Q25g'])\n",
        "df_work_emotion['Q25g'] = (df_work_emotion['Q25g']-min) / (max-min)\n",
        "\n",
        "min = np.min(df_work_emotion['Q25h'])\n",
        "max = np.max(df_work_emotion['Q25h'])\n",
        "df_work_emotion['Q25h'] = (df_work_emotion['Q25h']-min) / (max-min)\n",
        "\n",
        "min = np.min(df_work_emotion['Q25i'])\n",
        "max = np.max(df_work_emotion['Q25i'])\n",
        "df_work_emotion['Q25i'] = (df_work_emotion['Q25i']-min) / (max-min)\n",
        "\n",
        "min = np.min(df_work_emotion['Q25j'])\n",
        "max = np.max(df_work_emotion['Q25j'])\n",
        "df_work_emotion['Q25j'] = (df_work_emotion['Q25j']-min) / (max-min)\n",
        "\n",
        "# Calculate final emotional satisfaction score\n",
        "# positive = joyful (Q25a), hopeful (Q25b), proud (Q25c), relieved (Q25h) / negative: rest\n",
        "positive = col[:3]\n",
        "positive.append('Q25h')\n",
        "negative = col[3:]\n",
        "negative.remove('Q25h')\n",
        "\n",
        "def calculate_ESS(row):\n",
        "    positive_score = 0\n",
        "    for e in positive:\n",
        "        positive_score += row[e]\n",
        "    negative_score = 0\n",
        "    for e in negative:\n",
        "        negative_score += row[e]\n",
        "    ESS = positive_score - negative_score\n",
        "    return ESS\n",
        "\n",
        "df_work_emotion['ESS'] = df_work_emotion.apply(calculate_ESS, axis=1)\n",
        "\n",
        "# Group by Q5, calculate average\n",
        "df_work_emotion['Q5'].mask(df_work_emotion['Q5'] == 1.0, 'Bachelor', inplace = True)\n",
        "df_work_emotion['Q5'].mask(df_work_emotion['Q5'] == 2.0, 'Master', inplace = True)\n",
        "df_work_emotion['Q5'].mask(df_work_emotion['Q5'] == 3.0, 'PhD', inplace = True)\n",
        "data = df_work_emotion.groupby('Q5').ESS.mean()\n",
        "data = data.to_dict()\n",
        "\n",
        "# Visualization\n",
        "df_work_emotion.groupby('Q5').ESS.mean().plot.bar(rot = 0, title = 'ESS by educational level')\n",
        "fig = go.Figure()\n",
        "fig.add_trace(go.Bar(x=list(data.keys()), y=list(data.values())))\n",
        "fig.update_layout(title_text='ESS by educational level')\n",
        "fig.show()"
      ]
    },
    {
      "cell_type": "markdown",
      "metadata": {
        "id": "yQwBgdAOFERL"
      },
      "source": [
        "**Discuss your results. Is the assumption that \"negative emotions experienced by students are balanced out by positive emotions\" apply to any of the groups? For which group is this the case? How did you treat missing data here? (Max. 100 words)** **5 %**"
      ]
    },
    {
      "cell_type": "markdown",
      "metadata": {
        "id": "kglbiRQsFptS"
      },
      "source": [
        "    YOUR RESPONSE HERE\n",
        "Negative emotions are balanced out by positive emotions for Master and PhD candidates, as their average scores do not exceed -1, unlike Bachelor's. As shown in the graph, the higher the educational level is, the more negative emotions are balanced out. The missing data were dropped using  df_work_emotion = df.dropna(subset=['Q25a', 'Q25b', 'Q25c', 'Q25d', 'Q25e', 'Q25f', 'Q25g', 'Q25h', 'Q25i', 'Q25j']).copy(), which considers the columns regarding the emotions. This is because the presence of np.nan in a row would prevent the summation of scores."
      ]
    }
  ],
  "metadata": {
    "colab": {
      "provenance": []
    },
    "kernelspec": {
      "display_name": "Python 3.8.8 ('base')",
      "language": "python",
      "name": "python3"
    },
    "language_info": {
      "codemirror_mode": {
        "name": "ipython",
        "version": 3
      },
      "file_extension": ".py",
      "mimetype": "text/x-python",
      "name": "python",
      "nbconvert_exporter": "python",
      "pygments_lexer": "ipython3",
      "version": "3.8.8"
    },
    "vscode": {
      "interpreter": {
        "hash": "ce9468903258b765c544aa35e2ba7730fd0fb24626dad3fe29e7bb1b77dcc642"
      }
    }
  },
  "nbformat": 4,
  "nbformat_minor": 0
}
